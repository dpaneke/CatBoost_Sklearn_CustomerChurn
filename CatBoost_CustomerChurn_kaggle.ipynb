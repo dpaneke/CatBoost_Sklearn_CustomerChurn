{
 "cells": [
  {
   "cell_type": "markdown",
   "id": "019021fb",
   "metadata": {},
   "source": [
    "# Customer churn (Kaggle). CatBoost solution"
   ]
  },
  {
   "cell_type": "markdown",
   "id": "8b992ab0",
   "metadata": {},
   "source": [
    "This notebook contains solution of Customer churn competition with use of `catboost` library.\n",
    "\n",
    "The solution includes:\n",
    "- Data preparation\n",
    "- Feature content investigation\n",
    "- Custom Transformer (with pipeline containing different scaling and NaN filling strategies)\n",
    "- Сustom feature selector NullPercentageThreshold (depending on occupancy)\n",
    "- Final model containing data transformer, feature selector, and CatBoost classiifer\n",
    "- Grid search for the best parameters\n",
    "- Final evaluation score of `0.722` (better than the other `75%` of participants)"
   ]
  },
  {
   "cell_type": "markdown",
   "id": "35b0f085",
   "metadata": {},
   "source": [
    "## Task description"
   ]
  },
  {
   "cell_type": "markdown",
   "id": "de7ded19",
   "metadata": {},
   "source": [
    "https://www.kaggle.com/c/telecom-clients-prediction2/overview/description\n",
    "\n",
    "The task is to build a model that predicts churn-prone customers. As an answer, it is required to give a probalistic estimate of belonging to class 1 ('1' - churn, '-1' - not churn).\n",
    "\n",
    "Data contains missing values and categorical variables. The data is private and is provided without description. The dataset consists of 230 variables, of which the first 190 are numeric and the remaining 40 are categorical."
   ]
  },
  {
   "cell_type": "code",
   "execution_count": 1,
   "id": "5b12a8ec",
   "metadata": {},
   "outputs": [],
   "source": [
    "import pandas as pd\n",
    "import numpy as np\n",
    "\n",
    "from catboost import CatBoostClassifier, Pool, metrics, cv\n",
    "\n",
    "from sklearn.model_selection import (train_test_split, learning_curve, KFold, StratifiedKFold,\n",
    "                                     cross_val_score, GridSearchCV, RandomizedSearchCV)\n",
    "\n",
    "from sklearn.preprocessing import StandardScaler, MinMaxScaler, FunctionTransformer\n",
    "from sklearn.base import TransformerMixin, BaseEstimator\n",
    "\n",
    "from sklearn.pipeline import Pipeline, FeatureUnion, make_pipeline\n",
    "\n",
    "from sklearn.metrics import accuracy_score, roc_auc_score, make_scorer\n",
    "\n",
    "import matplotlib.pyplot as plt\n",
    "from matplotlib.ticker import FixedLocator"
   ]
  },
  {
   "cell_type": "markdown",
   "id": "2f0f0fbe",
   "metadata": {},
   "source": [
    "## Data loading"
   ]
  },
  {
   "cell_type": "code",
   "execution_count": 2,
   "id": "5cf4ef0f",
   "metadata": {},
   "outputs": [],
   "source": [
    "raw_data = pd.read_csv('orange_small_churn_train_data.csv', header=0)"
   ]
  },
  {
   "cell_type": "code",
   "execution_count": 3,
   "id": "95052be2",
   "metadata": {},
   "outputs": [
    {
     "data": {
      "text/html": [
       "<div>\n",
       "<style scoped>\n",
       "    .dataframe tbody tr th:only-of-type {\n",
       "        vertical-align: middle;\n",
       "    }\n",
       "\n",
       "    .dataframe tbody tr th {\n",
       "        vertical-align: top;\n",
       "    }\n",
       "\n",
       "    .dataframe thead th {\n",
       "        text-align: right;\n",
       "    }\n",
       "</style>\n",
       "<table border=\"1\" class=\"dataframe\">\n",
       "  <thead>\n",
       "    <tr style=\"text-align: right;\">\n",
       "      <th></th>\n",
       "      <th>ID</th>\n",
       "      <th>Var1</th>\n",
       "      <th>Var2</th>\n",
       "      <th>Var3</th>\n",
       "      <th>Var4</th>\n",
       "      <th>Var5</th>\n",
       "      <th>Var6</th>\n",
       "      <th>Var7</th>\n",
       "      <th>Var8</th>\n",
       "      <th>Var9</th>\n",
       "      <th>...</th>\n",
       "      <th>Var222</th>\n",
       "      <th>Var223</th>\n",
       "      <th>Var224</th>\n",
       "      <th>Var225</th>\n",
       "      <th>Var226</th>\n",
       "      <th>Var227</th>\n",
       "      <th>Var228</th>\n",
       "      <th>Var229</th>\n",
       "      <th>Var230</th>\n",
       "      <th>labels</th>\n",
       "    </tr>\n",
       "  </thead>\n",
       "  <tbody>\n",
       "    <tr>\n",
       "      <th>0</th>\n",
       "      <td>0</td>\n",
       "      <td>NaN</td>\n",
       "      <td>NaN</td>\n",
       "      <td>NaN</td>\n",
       "      <td>NaN</td>\n",
       "      <td>NaN</td>\n",
       "      <td>3052.0</td>\n",
       "      <td>NaN</td>\n",
       "      <td>NaN</td>\n",
       "      <td>NaN</td>\n",
       "      <td>...</td>\n",
       "      <td>vr93T2a</td>\n",
       "      <td>LM8l689qOp</td>\n",
       "      <td>NaN</td>\n",
       "      <td>NaN</td>\n",
       "      <td>fKCe</td>\n",
       "      <td>02N6s8f</td>\n",
       "      <td>xwM2aC7IdeMC0</td>\n",
       "      <td>NaN</td>\n",
       "      <td>NaN</td>\n",
       "      <td>-1.0</td>\n",
       "    </tr>\n",
       "    <tr>\n",
       "      <th>1</th>\n",
       "      <td>1</td>\n",
       "      <td>NaN</td>\n",
       "      <td>NaN</td>\n",
       "      <td>NaN</td>\n",
       "      <td>NaN</td>\n",
       "      <td>NaN</td>\n",
       "      <td>1813.0</td>\n",
       "      <td>7.0</td>\n",
       "      <td>NaN</td>\n",
       "      <td>NaN</td>\n",
       "      <td>...</td>\n",
       "      <td>6hQ9lNX</td>\n",
       "      <td>LM8l689qOp</td>\n",
       "      <td>NaN</td>\n",
       "      <td>ELof</td>\n",
       "      <td>xb3V</td>\n",
       "      <td>RAYp</td>\n",
       "      <td>55YFVY9</td>\n",
       "      <td>mj86</td>\n",
       "      <td>NaN</td>\n",
       "      <td>-1.0</td>\n",
       "    </tr>\n",
       "    <tr>\n",
       "      <th>2</th>\n",
       "      <td>2</td>\n",
       "      <td>NaN</td>\n",
       "      <td>NaN</td>\n",
       "      <td>NaN</td>\n",
       "      <td>NaN</td>\n",
       "      <td>NaN</td>\n",
       "      <td>1953.0</td>\n",
       "      <td>7.0</td>\n",
       "      <td>NaN</td>\n",
       "      <td>NaN</td>\n",
       "      <td>...</td>\n",
       "      <td>catzS2D</td>\n",
       "      <td>LM8l689qOp</td>\n",
       "      <td>NaN</td>\n",
       "      <td>NaN</td>\n",
       "      <td>FSa2</td>\n",
       "      <td>ZI9m</td>\n",
       "      <td>ib5G6X1eUxUn6</td>\n",
       "      <td>mj86</td>\n",
       "      <td>NaN</td>\n",
       "      <td>-1.0</td>\n",
       "    </tr>\n",
       "    <tr>\n",
       "      <th>3</th>\n",
       "      <td>3</td>\n",
       "      <td>NaN</td>\n",
       "      <td>NaN</td>\n",
       "      <td>NaN</td>\n",
       "      <td>NaN</td>\n",
       "      <td>NaN</td>\n",
       "      <td>1533.0</td>\n",
       "      <td>7.0</td>\n",
       "      <td>NaN</td>\n",
       "      <td>NaN</td>\n",
       "      <td>...</td>\n",
       "      <td>e4lqvY0</td>\n",
       "      <td>LM8l689qOp</td>\n",
       "      <td>NaN</td>\n",
       "      <td>NaN</td>\n",
       "      <td>xb3V</td>\n",
       "      <td>RAYp</td>\n",
       "      <td>F2FyR07IdsN7I</td>\n",
       "      <td>NaN</td>\n",
       "      <td>NaN</td>\n",
       "      <td>1.0</td>\n",
       "    </tr>\n",
       "    <tr>\n",
       "      <th>4</th>\n",
       "      <td>4</td>\n",
       "      <td>NaN</td>\n",
       "      <td>NaN</td>\n",
       "      <td>NaN</td>\n",
       "      <td>NaN</td>\n",
       "      <td>NaN</td>\n",
       "      <td>686.0</td>\n",
       "      <td>7.0</td>\n",
       "      <td>NaN</td>\n",
       "      <td>NaN</td>\n",
       "      <td>...</td>\n",
       "      <td>MAz3HNj</td>\n",
       "      <td>LM8l689qOp</td>\n",
       "      <td>NaN</td>\n",
       "      <td>NaN</td>\n",
       "      <td>WqMG</td>\n",
       "      <td>RAYp</td>\n",
       "      <td>F2FyR07IdsN7I</td>\n",
       "      <td>NaN</td>\n",
       "      <td>NaN</td>\n",
       "      <td>-1.0</td>\n",
       "    </tr>\n",
       "    <tr>\n",
       "      <th>...</th>\n",
       "      <td>...</td>\n",
       "      <td>...</td>\n",
       "      <td>...</td>\n",
       "      <td>...</td>\n",
       "      <td>...</td>\n",
       "      <td>...</td>\n",
       "      <td>...</td>\n",
       "      <td>...</td>\n",
       "      <td>...</td>\n",
       "      <td>...</td>\n",
       "      <td>...</td>\n",
       "      <td>...</td>\n",
       "      <td>...</td>\n",
       "      <td>...</td>\n",
       "      <td>...</td>\n",
       "      <td>...</td>\n",
       "      <td>...</td>\n",
       "      <td>...</td>\n",
       "      <td>...</td>\n",
       "      <td>...</td>\n",
       "      <td>...</td>\n",
       "    </tr>\n",
       "    <tr>\n",
       "      <th>18294</th>\n",
       "      <td>18294</td>\n",
       "      <td>NaN</td>\n",
       "      <td>NaN</td>\n",
       "      <td>NaN</td>\n",
       "      <td>NaN</td>\n",
       "      <td>NaN</td>\n",
       "      <td>462.0</td>\n",
       "      <td>0.0</td>\n",
       "      <td>NaN</td>\n",
       "      <td>NaN</td>\n",
       "      <td>...</td>\n",
       "      <td>mErwEWL</td>\n",
       "      <td>LM8l689qOp</td>\n",
       "      <td>NaN</td>\n",
       "      <td>NaN</td>\n",
       "      <td>uWr3</td>\n",
       "      <td>RAYp</td>\n",
       "      <td>F2FyR07IdsN7I</td>\n",
       "      <td>NaN</td>\n",
       "      <td>NaN</td>\n",
       "      <td>-1.0</td>\n",
       "    </tr>\n",
       "    <tr>\n",
       "      <th>18295</th>\n",
       "      <td>18295</td>\n",
       "      <td>NaN</td>\n",
       "      <td>NaN</td>\n",
       "      <td>NaN</td>\n",
       "      <td>NaN</td>\n",
       "      <td>NaN</td>\n",
       "      <td>1603.0</td>\n",
       "      <td>7.0</td>\n",
       "      <td>NaN</td>\n",
       "      <td>NaN</td>\n",
       "      <td>...</td>\n",
       "      <td>catzS2D</td>\n",
       "      <td>LM8l689qOp</td>\n",
       "      <td>NaN</td>\n",
       "      <td>kG3k</td>\n",
       "      <td>uWr3</td>\n",
       "      <td>ZI9m</td>\n",
       "      <td>ib5G6X1eUxUn6</td>\n",
       "      <td>am7c</td>\n",
       "      <td>NaN</td>\n",
       "      <td>1.0</td>\n",
       "    </tr>\n",
       "    <tr>\n",
       "      <th>18296</th>\n",
       "      <td>18296</td>\n",
       "      <td>NaN</td>\n",
       "      <td>NaN</td>\n",
       "      <td>NaN</td>\n",
       "      <td>NaN</td>\n",
       "      <td>NaN</td>\n",
       "      <td>1239.0</td>\n",
       "      <td>7.0</td>\n",
       "      <td>NaN</td>\n",
       "      <td>NaN</td>\n",
       "      <td>...</td>\n",
       "      <td>catzS2D</td>\n",
       "      <td>LM8l689qOp</td>\n",
       "      <td>NaN</td>\n",
       "      <td>ELof</td>\n",
       "      <td>Qcbd</td>\n",
       "      <td>ZI9m</td>\n",
       "      <td>55YFVY9</td>\n",
       "      <td>am7c</td>\n",
       "      <td>NaN</td>\n",
       "      <td>-1.0</td>\n",
       "    </tr>\n",
       "    <tr>\n",
       "      <th>18297</th>\n",
       "      <td>18297</td>\n",
       "      <td>NaN</td>\n",
       "      <td>NaN</td>\n",
       "      <td>NaN</td>\n",
       "      <td>NaN</td>\n",
       "      <td>NaN</td>\n",
       "      <td>210.0</td>\n",
       "      <td>0.0</td>\n",
       "      <td>NaN</td>\n",
       "      <td>NaN</td>\n",
       "      <td>...</td>\n",
       "      <td>wg_DmEs</td>\n",
       "      <td>LM8l689qOp</td>\n",
       "      <td>NaN</td>\n",
       "      <td>NaN</td>\n",
       "      <td>WqMG</td>\n",
       "      <td>RAYp</td>\n",
       "      <td>F2FyR07IdsN7I</td>\n",
       "      <td>NaN</td>\n",
       "      <td>NaN</td>\n",
       "      <td>-1.0</td>\n",
       "    </tr>\n",
       "    <tr>\n",
       "      <th>18298</th>\n",
       "      <td>18298</td>\n",
       "      <td>NaN</td>\n",
       "      <td>NaN</td>\n",
       "      <td>NaN</td>\n",
       "      <td>NaN</td>\n",
       "      <td>NaN</td>\n",
       "      <td>343.0</td>\n",
       "      <td>0.0</td>\n",
       "      <td>NaN</td>\n",
       "      <td>NaN</td>\n",
       "      <td>...</td>\n",
       "      <td>NaN</td>\n",
       "      <td>NaN</td>\n",
       "      <td>NaN</td>\n",
       "      <td>NaN</td>\n",
       "      <td>NaN</td>\n",
       "      <td>NaN</td>\n",
       "      <td>NaN</td>\n",
       "      <td>NaN</td>\n",
       "      <td>NaN</td>\n",
       "      <td>NaN</td>\n",
       "    </tr>\n",
       "  </tbody>\n",
       "</table>\n",
       "<p>18299 rows × 232 columns</p>\n",
       "</div>"
      ],
      "text/plain": [
       "          ID  Var1  Var2  Var3  Var4  Var5    Var6  Var7  Var8  Var9  ...  \\\n",
       "0          0   NaN   NaN   NaN   NaN   NaN  3052.0   NaN   NaN   NaN  ...   \n",
       "1          1   NaN   NaN   NaN   NaN   NaN  1813.0   7.0   NaN   NaN  ...   \n",
       "2          2   NaN   NaN   NaN   NaN   NaN  1953.0   7.0   NaN   NaN  ...   \n",
       "3          3   NaN   NaN   NaN   NaN   NaN  1533.0   7.0   NaN   NaN  ...   \n",
       "4          4   NaN   NaN   NaN   NaN   NaN   686.0   7.0   NaN   NaN  ...   \n",
       "...      ...   ...   ...   ...   ...   ...     ...   ...   ...   ...  ...   \n",
       "18294  18294   NaN   NaN   NaN   NaN   NaN   462.0   0.0   NaN   NaN  ...   \n",
       "18295  18295   NaN   NaN   NaN   NaN   NaN  1603.0   7.0   NaN   NaN  ...   \n",
       "18296  18296   NaN   NaN   NaN   NaN   NaN  1239.0   7.0   NaN   NaN  ...   \n",
       "18297  18297   NaN   NaN   NaN   NaN   NaN   210.0   0.0   NaN   NaN  ...   \n",
       "18298  18298   NaN   NaN   NaN   NaN   NaN   343.0   0.0   NaN   NaN  ...   \n",
       "\n",
       "        Var222      Var223  Var224  Var225  Var226   Var227         Var228  \\\n",
       "0      vr93T2a  LM8l689qOp     NaN     NaN    fKCe  02N6s8f  xwM2aC7IdeMC0   \n",
       "1      6hQ9lNX  LM8l689qOp     NaN    ELof    xb3V     RAYp        55YFVY9   \n",
       "2      catzS2D  LM8l689qOp     NaN     NaN    FSa2     ZI9m  ib5G6X1eUxUn6   \n",
       "3      e4lqvY0  LM8l689qOp     NaN     NaN    xb3V     RAYp  F2FyR07IdsN7I   \n",
       "4      MAz3HNj  LM8l689qOp     NaN     NaN    WqMG     RAYp  F2FyR07IdsN7I   \n",
       "...        ...         ...     ...     ...     ...      ...            ...   \n",
       "18294  mErwEWL  LM8l689qOp     NaN     NaN    uWr3     RAYp  F2FyR07IdsN7I   \n",
       "18295  catzS2D  LM8l689qOp     NaN    kG3k    uWr3     ZI9m  ib5G6X1eUxUn6   \n",
       "18296  catzS2D  LM8l689qOp     NaN    ELof    Qcbd     ZI9m        55YFVY9   \n",
       "18297  wg_DmEs  LM8l689qOp     NaN     NaN    WqMG     RAYp  F2FyR07IdsN7I   \n",
       "18298      NaN         NaN     NaN     NaN     NaN      NaN            NaN   \n",
       "\n",
       "       Var229  Var230  labels  \n",
       "0         NaN     NaN    -1.0  \n",
       "1        mj86     NaN    -1.0  \n",
       "2        mj86     NaN    -1.0  \n",
       "3         NaN     NaN     1.0  \n",
       "4         NaN     NaN    -1.0  \n",
       "...       ...     ...     ...  \n",
       "18294     NaN     NaN    -1.0  \n",
       "18295    am7c     NaN     1.0  \n",
       "18296    am7c     NaN    -1.0  \n",
       "18297     NaN     NaN    -1.0  \n",
       "18298     NaN     NaN     NaN  \n",
       "\n",
       "[18299 rows x 232 columns]"
      ]
     },
     "execution_count": 3,
     "metadata": {},
     "output_type": "execute_result"
    }
   ],
   "source": [
    "raw_data"
   ]
  },
  {
   "cell_type": "markdown",
   "id": "047ee667",
   "metadata": {},
   "source": [
    "##  Deleting blank features"
   ]
  },
  {
   "cell_type": "code",
   "execution_count": 4,
   "id": "5b2ccb8b",
   "metadata": {},
   "outputs": [
    {
     "data": {
      "text/plain": [
       "ID            0\n",
       "Var1      18038\n",
       "Var2      17831\n",
       "Var3      17832\n",
       "Var4      17736\n",
       "          ...  \n",
       "Var227        1\n",
       "Var228        1\n",
       "Var229    10366\n",
       "Var230    18299\n",
       "labels        1\n",
       "Length: 232, dtype: int64"
      ]
     },
     "execution_count": 4,
     "metadata": {},
     "output_type": "execute_result"
    }
   ],
   "source": [
    "null_stats = raw_data.isnull().sum()\n",
    "null_stats"
   ]
  },
  {
   "cell_type": "code",
   "execution_count": 5,
   "id": "5fd9f17a",
   "metadata": {},
   "outputs": [
    {
     "data": {
      "text/plain": [
       "Index(['Var8', 'Var15', 'Var20', 'Var31', 'Var32', 'Var39', 'Var42', 'Var48',\n",
       "       'Var52', 'Var55', 'Var79', 'Var141', 'Var167', 'Var169', 'Var175',\n",
       "       'Var185', 'Var209', 'Var230'],\n",
       "      dtype='object')"
      ]
     },
     "execution_count": 5,
     "metadata": {},
     "output_type": "execute_result"
    }
   ],
   "source": [
    "# Blank features\n",
    "columns_to_drop = null_stats[null_stats == raw_data.shape[0]].index\n",
    "columns_to_drop"
   ]
  },
  {
   "cell_type": "code",
   "execution_count": 6,
   "id": "7d380105",
   "metadata": {},
   "outputs": [
    {
     "data": {
      "text/plain": [
       "Int64Index([18298], dtype='int64')"
      ]
     },
     "execution_count": 6,
     "metadata": {},
     "output_type": "execute_result"
    }
   ],
   "source": [
    "null_labels = raw_data['labels'].isnull()\n",
    "null_labels_index = null_labels[null_labels==True].index\n",
    "null_labels_index"
   ]
  },
  {
   "cell_type": "code",
   "execution_count": 7,
   "id": "61bfe45f",
   "metadata": {},
   "outputs": [
    {
     "data": {
      "text/html": [
       "<div>\n",
       "<style scoped>\n",
       "    .dataframe tbody tr th:only-of-type {\n",
       "        vertical-align: middle;\n",
       "    }\n",
       "\n",
       "    .dataframe tbody tr th {\n",
       "        vertical-align: top;\n",
       "    }\n",
       "\n",
       "    .dataframe thead th {\n",
       "        text-align: right;\n",
       "    }\n",
       "</style>\n",
       "<table border=\"1\" class=\"dataframe\">\n",
       "  <thead>\n",
       "    <tr style=\"text-align: right;\">\n",
       "      <th></th>\n",
       "      <th>Var1</th>\n",
       "      <th>Var2</th>\n",
       "      <th>Var3</th>\n",
       "      <th>Var4</th>\n",
       "      <th>Var5</th>\n",
       "      <th>Var6</th>\n",
       "      <th>Var7</th>\n",
       "      <th>Var9</th>\n",
       "      <th>Var10</th>\n",
       "      <th>Var11</th>\n",
       "      <th>...</th>\n",
       "      <th>Var220</th>\n",
       "      <th>Var221</th>\n",
       "      <th>Var222</th>\n",
       "      <th>Var223</th>\n",
       "      <th>Var224</th>\n",
       "      <th>Var225</th>\n",
       "      <th>Var226</th>\n",
       "      <th>Var227</th>\n",
       "      <th>Var228</th>\n",
       "      <th>Var229</th>\n",
       "    </tr>\n",
       "  </thead>\n",
       "  <tbody>\n",
       "    <tr>\n",
       "      <th>0</th>\n",
       "      <td>NaN</td>\n",
       "      <td>NaN</td>\n",
       "      <td>NaN</td>\n",
       "      <td>NaN</td>\n",
       "      <td>NaN</td>\n",
       "      <td>3052.0</td>\n",
       "      <td>NaN</td>\n",
       "      <td>NaN</td>\n",
       "      <td>NaN</td>\n",
       "      <td>NaN</td>\n",
       "      <td>...</td>\n",
       "      <td>hLKtJ9p</td>\n",
       "      <td>Al6ZaUT</td>\n",
       "      <td>vr93T2a</td>\n",
       "      <td>LM8l689qOp</td>\n",
       "      <td>NaN</td>\n",
       "      <td>NaN</td>\n",
       "      <td>fKCe</td>\n",
       "      <td>02N6s8f</td>\n",
       "      <td>xwM2aC7IdeMC0</td>\n",
       "      <td>NaN</td>\n",
       "    </tr>\n",
       "    <tr>\n",
       "      <th>1</th>\n",
       "      <td>NaN</td>\n",
       "      <td>NaN</td>\n",
       "      <td>NaN</td>\n",
       "      <td>NaN</td>\n",
       "      <td>NaN</td>\n",
       "      <td>1813.0</td>\n",
       "      <td>7.0</td>\n",
       "      <td>NaN</td>\n",
       "      <td>NaN</td>\n",
       "      <td>NaN</td>\n",
       "      <td>...</td>\n",
       "      <td>hN8KpA1</td>\n",
       "      <td>oslk</td>\n",
       "      <td>6hQ9lNX</td>\n",
       "      <td>LM8l689qOp</td>\n",
       "      <td>NaN</td>\n",
       "      <td>ELof</td>\n",
       "      <td>xb3V</td>\n",
       "      <td>RAYp</td>\n",
       "      <td>55YFVY9</td>\n",
       "      <td>mj86</td>\n",
       "    </tr>\n",
       "    <tr>\n",
       "      <th>2</th>\n",
       "      <td>NaN</td>\n",
       "      <td>NaN</td>\n",
       "      <td>NaN</td>\n",
       "      <td>NaN</td>\n",
       "      <td>NaN</td>\n",
       "      <td>1953.0</td>\n",
       "      <td>7.0</td>\n",
       "      <td>NaN</td>\n",
       "      <td>NaN</td>\n",
       "      <td>NaN</td>\n",
       "      <td>...</td>\n",
       "      <td>4UxGlow</td>\n",
       "      <td>zCkv</td>\n",
       "      <td>catzS2D</td>\n",
       "      <td>LM8l689qOp</td>\n",
       "      <td>NaN</td>\n",
       "      <td>NaN</td>\n",
       "      <td>FSa2</td>\n",
       "      <td>ZI9m</td>\n",
       "      <td>ib5G6X1eUxUn6</td>\n",
       "      <td>mj86</td>\n",
       "    </tr>\n",
       "    <tr>\n",
       "      <th>3</th>\n",
       "      <td>NaN</td>\n",
       "      <td>NaN</td>\n",
       "      <td>NaN</td>\n",
       "      <td>NaN</td>\n",
       "      <td>NaN</td>\n",
       "      <td>1533.0</td>\n",
       "      <td>7.0</td>\n",
       "      <td>NaN</td>\n",
       "      <td>NaN</td>\n",
       "      <td>NaN</td>\n",
       "      <td>...</td>\n",
       "      <td>ylCK5YS</td>\n",
       "      <td>oslk</td>\n",
       "      <td>e4lqvY0</td>\n",
       "      <td>LM8l689qOp</td>\n",
       "      <td>NaN</td>\n",
       "      <td>NaN</td>\n",
       "      <td>xb3V</td>\n",
       "      <td>RAYp</td>\n",
       "      <td>F2FyR07IdsN7I</td>\n",
       "      <td>NaN</td>\n",
       "    </tr>\n",
       "    <tr>\n",
       "      <th>4</th>\n",
       "      <td>NaN</td>\n",
       "      <td>NaN</td>\n",
       "      <td>NaN</td>\n",
       "      <td>NaN</td>\n",
       "      <td>NaN</td>\n",
       "      <td>686.0</td>\n",
       "      <td>7.0</td>\n",
       "      <td>NaN</td>\n",
       "      <td>NaN</td>\n",
       "      <td>NaN</td>\n",
       "      <td>...</td>\n",
       "      <td>PYpzAu9</td>\n",
       "      <td>oslk</td>\n",
       "      <td>MAz3HNj</td>\n",
       "      <td>LM8l689qOp</td>\n",
       "      <td>NaN</td>\n",
       "      <td>NaN</td>\n",
       "      <td>WqMG</td>\n",
       "      <td>RAYp</td>\n",
       "      <td>F2FyR07IdsN7I</td>\n",
       "      <td>NaN</td>\n",
       "    </tr>\n",
       "    <tr>\n",
       "      <th>...</th>\n",
       "      <td>...</td>\n",
       "      <td>...</td>\n",
       "      <td>...</td>\n",
       "      <td>...</td>\n",
       "      <td>...</td>\n",
       "      <td>...</td>\n",
       "      <td>...</td>\n",
       "      <td>...</td>\n",
       "      <td>...</td>\n",
       "      <td>...</td>\n",
       "      <td>...</td>\n",
       "      <td>...</td>\n",
       "      <td>...</td>\n",
       "      <td>...</td>\n",
       "      <td>...</td>\n",
       "      <td>...</td>\n",
       "      <td>...</td>\n",
       "      <td>...</td>\n",
       "      <td>...</td>\n",
       "      <td>...</td>\n",
       "      <td>...</td>\n",
       "    </tr>\n",
       "    <tr>\n",
       "      <th>18293</th>\n",
       "      <td>NaN</td>\n",
       "      <td>NaN</td>\n",
       "      <td>NaN</td>\n",
       "      <td>NaN</td>\n",
       "      <td>NaN</td>\n",
       "      <td>3892.0</td>\n",
       "      <td>0.0</td>\n",
       "      <td>NaN</td>\n",
       "      <td>NaN</td>\n",
       "      <td>NaN</td>\n",
       "      <td>...</td>\n",
       "      <td>fmK1UQz</td>\n",
       "      <td>oslk</td>\n",
       "      <td>LsdaF5M</td>\n",
       "      <td>NaN</td>\n",
       "      <td>NaN</td>\n",
       "      <td>NaN</td>\n",
       "      <td>Xa3G</td>\n",
       "      <td>RAYp</td>\n",
       "      <td>F2FyR07IdsN7I</td>\n",
       "      <td>NaN</td>\n",
       "    </tr>\n",
       "    <tr>\n",
       "      <th>18294</th>\n",
       "      <td>NaN</td>\n",
       "      <td>NaN</td>\n",
       "      <td>NaN</td>\n",
       "      <td>NaN</td>\n",
       "      <td>NaN</td>\n",
       "      <td>462.0</td>\n",
       "      <td>0.0</td>\n",
       "      <td>NaN</td>\n",
       "      <td>NaN</td>\n",
       "      <td>NaN</td>\n",
       "      <td>...</td>\n",
       "      <td>25cNqhB</td>\n",
       "      <td>oslk</td>\n",
       "      <td>mErwEWL</td>\n",
       "      <td>LM8l689qOp</td>\n",
       "      <td>NaN</td>\n",
       "      <td>NaN</td>\n",
       "      <td>uWr3</td>\n",
       "      <td>RAYp</td>\n",
       "      <td>F2FyR07IdsN7I</td>\n",
       "      <td>NaN</td>\n",
       "    </tr>\n",
       "    <tr>\n",
       "      <th>18295</th>\n",
       "      <td>NaN</td>\n",
       "      <td>NaN</td>\n",
       "      <td>NaN</td>\n",
       "      <td>NaN</td>\n",
       "      <td>NaN</td>\n",
       "      <td>1603.0</td>\n",
       "      <td>7.0</td>\n",
       "      <td>NaN</td>\n",
       "      <td>NaN</td>\n",
       "      <td>NaN</td>\n",
       "      <td>...</td>\n",
       "      <td>4UxGlow</td>\n",
       "      <td>zCkv</td>\n",
       "      <td>catzS2D</td>\n",
       "      <td>LM8l689qOp</td>\n",
       "      <td>NaN</td>\n",
       "      <td>kG3k</td>\n",
       "      <td>uWr3</td>\n",
       "      <td>ZI9m</td>\n",
       "      <td>ib5G6X1eUxUn6</td>\n",
       "      <td>am7c</td>\n",
       "    </tr>\n",
       "    <tr>\n",
       "      <th>18296</th>\n",
       "      <td>NaN</td>\n",
       "      <td>NaN</td>\n",
       "      <td>NaN</td>\n",
       "      <td>NaN</td>\n",
       "      <td>NaN</td>\n",
       "      <td>1239.0</td>\n",
       "      <td>7.0</td>\n",
       "      <td>NaN</td>\n",
       "      <td>NaN</td>\n",
       "      <td>NaN</td>\n",
       "      <td>...</td>\n",
       "      <td>4UxGlow</td>\n",
       "      <td>oslk</td>\n",
       "      <td>catzS2D</td>\n",
       "      <td>LM8l689qOp</td>\n",
       "      <td>NaN</td>\n",
       "      <td>ELof</td>\n",
       "      <td>Qcbd</td>\n",
       "      <td>ZI9m</td>\n",
       "      <td>55YFVY9</td>\n",
       "      <td>am7c</td>\n",
       "    </tr>\n",
       "    <tr>\n",
       "      <th>18297</th>\n",
       "      <td>NaN</td>\n",
       "      <td>NaN</td>\n",
       "      <td>NaN</td>\n",
       "      <td>NaN</td>\n",
       "      <td>NaN</td>\n",
       "      <td>210.0</td>\n",
       "      <td>0.0</td>\n",
       "      <td>NaN</td>\n",
       "      <td>NaN</td>\n",
       "      <td>NaN</td>\n",
       "      <td>...</td>\n",
       "      <td>3vmoOXS</td>\n",
       "      <td>oslk</td>\n",
       "      <td>wg_DmEs</td>\n",
       "      <td>LM8l689qOp</td>\n",
       "      <td>NaN</td>\n",
       "      <td>NaN</td>\n",
       "      <td>WqMG</td>\n",
       "      <td>RAYp</td>\n",
       "      <td>F2FyR07IdsN7I</td>\n",
       "      <td>NaN</td>\n",
       "    </tr>\n",
       "  </tbody>\n",
       "</table>\n",
       "<p>18298 rows × 212 columns</p>\n",
       "</div>"
      ],
      "text/plain": [
       "       Var1  Var2  Var3  Var4  Var5    Var6  Var7  Var9  Var10  Var11  ...  \\\n",
       "0       NaN   NaN   NaN   NaN   NaN  3052.0   NaN   NaN    NaN    NaN  ...   \n",
       "1       NaN   NaN   NaN   NaN   NaN  1813.0   7.0   NaN    NaN    NaN  ...   \n",
       "2       NaN   NaN   NaN   NaN   NaN  1953.0   7.0   NaN    NaN    NaN  ...   \n",
       "3       NaN   NaN   NaN   NaN   NaN  1533.0   7.0   NaN    NaN    NaN  ...   \n",
       "4       NaN   NaN   NaN   NaN   NaN   686.0   7.0   NaN    NaN    NaN  ...   \n",
       "...     ...   ...   ...   ...   ...     ...   ...   ...    ...    ...  ...   \n",
       "18293   NaN   NaN   NaN   NaN   NaN  3892.0   0.0   NaN    NaN    NaN  ...   \n",
       "18294   NaN   NaN   NaN   NaN   NaN   462.0   0.0   NaN    NaN    NaN  ...   \n",
       "18295   NaN   NaN   NaN   NaN   NaN  1603.0   7.0   NaN    NaN    NaN  ...   \n",
       "18296   NaN   NaN   NaN   NaN   NaN  1239.0   7.0   NaN    NaN    NaN  ...   \n",
       "18297   NaN   NaN   NaN   NaN   NaN   210.0   0.0   NaN    NaN    NaN  ...   \n",
       "\n",
       "        Var220   Var221   Var222      Var223  Var224  Var225  Var226   Var227  \\\n",
       "0      hLKtJ9p  Al6ZaUT  vr93T2a  LM8l689qOp     NaN     NaN    fKCe  02N6s8f   \n",
       "1      hN8KpA1     oslk  6hQ9lNX  LM8l689qOp     NaN    ELof    xb3V     RAYp   \n",
       "2      4UxGlow     zCkv  catzS2D  LM8l689qOp     NaN     NaN    FSa2     ZI9m   \n",
       "3      ylCK5YS     oslk  e4lqvY0  LM8l689qOp     NaN     NaN    xb3V     RAYp   \n",
       "4      PYpzAu9     oslk  MAz3HNj  LM8l689qOp     NaN     NaN    WqMG     RAYp   \n",
       "...        ...      ...      ...         ...     ...     ...     ...      ...   \n",
       "18293  fmK1UQz     oslk  LsdaF5M         NaN     NaN     NaN    Xa3G     RAYp   \n",
       "18294  25cNqhB     oslk  mErwEWL  LM8l689qOp     NaN     NaN    uWr3     RAYp   \n",
       "18295  4UxGlow     zCkv  catzS2D  LM8l689qOp     NaN    kG3k    uWr3     ZI9m   \n",
       "18296  4UxGlow     oslk  catzS2D  LM8l689qOp     NaN    ELof    Qcbd     ZI9m   \n",
       "18297  3vmoOXS     oslk  wg_DmEs  LM8l689qOp     NaN     NaN    WqMG     RAYp   \n",
       "\n",
       "              Var228  Var229  \n",
       "0      xwM2aC7IdeMC0     NaN  \n",
       "1            55YFVY9    mj86  \n",
       "2      ib5G6X1eUxUn6    mj86  \n",
       "3      F2FyR07IdsN7I     NaN  \n",
       "4      F2FyR07IdsN7I     NaN  \n",
       "...              ...     ...  \n",
       "18293  F2FyR07IdsN7I     NaN  \n",
       "18294  F2FyR07IdsN7I     NaN  \n",
       "18295  ib5G6X1eUxUn6    am7c  \n",
       "18296        55YFVY9    am7c  \n",
       "18297  F2FyR07IdsN7I     NaN  \n",
       "\n",
       "[18298 rows x 212 columns]"
      ]
     },
     "execution_count": 7,
     "metadata": {},
     "output_type": "execute_result"
    }
   ],
   "source": [
    "data = raw_data.drop(columns=list(columns_to_drop)+['ID', 'labels'], index=null_labels_index)\n",
    "y = raw_data['labels'].drop(index=null_labels_index).values\n",
    "data"
   ]
  },
  {
   "cell_type": "markdown",
   "id": "d4c658d8",
   "metadata": {},
   "source": [
    "## Check class imbalance"
   ]
  },
  {
   "cell_type": "code",
   "execution_count": 8,
   "id": "3d612609",
   "metadata": {},
   "outputs": [
    {
     "data": {
      "text/plain": [
       "Counter({-1.0: 16921, 1.0: 1377})"
      ]
     },
     "execution_count": 8,
     "metadata": {},
     "output_type": "execute_result"
    }
   ],
   "source": [
    "from collections import Counter\n",
    "Counter(y)"
   ]
  },
  {
   "cell_type": "markdown",
   "id": "ee95cc91",
   "metadata": {},
   "source": [
    "## Churn and stay on user indices"
   ]
  },
  {
   "cell_type": "code",
   "execution_count": 9,
   "id": "3280f924",
   "metadata": {},
   "outputs": [],
   "source": [
    "churn_inds = pd.Index(np.argwhere(y==1.).T[0])\n",
    "stayon_inds = pd.Index(np.argwhere(y==-1.).T[0])"
   ]
  },
  {
   "cell_type": "markdown",
   "id": "82ea00bd",
   "metadata": {},
   "source": [
    "## Convert all types to float64 or object"
   ]
  },
  {
   "cell_type": "code",
   "execution_count": 10,
   "id": "2e6d922d",
   "metadata": {},
   "outputs": [
    {
     "data": {
      "text/plain": [
       "Counter({dtype('float64'): 173, dtype('int64'): 1, dtype('O'): 38})"
      ]
     },
     "execution_count": 10,
     "metadata": {},
     "output_type": "execute_result"
    }
   ],
   "source": [
    "Counter(data.dtypes)"
   ]
  },
  {
   "cell_type": "code",
   "execution_count": 11,
   "id": "08479f2c",
   "metadata": {},
   "outputs": [
    {
     "data": {
      "text/plain": [
       "Var73    int64\n",
       "dtype: object"
      ]
     },
     "execution_count": 11,
     "metadata": {},
     "output_type": "execute_result"
    }
   ],
   "source": [
    "data.dtypes[data.dtypes == 'int64']"
   ]
  },
  {
   "cell_type": "code",
   "execution_count": 12,
   "id": "e86c4560",
   "metadata": {},
   "outputs": [],
   "source": [
    "data = data.astype({'Var73': 'float64'})"
   ]
  },
  {
   "cell_type": "markdown",
   "id": "2ee3acc3",
   "metadata": {},
   "source": [
    "## Get real and categorical features"
   ]
  },
  {
   "cell_type": "code",
   "execution_count": 13,
   "id": "66662d43",
   "metadata": {},
   "outputs": [],
   "source": [
    "def get_real_cat_features(data):\n",
    "    return (data.columns[np.where(data.dtypes == float)],\n",
    "            data.columns[np.where(data.dtypes != float)])"
   ]
  },
  {
   "cell_type": "code",
   "execution_count": 14,
   "id": "dd0c64d7",
   "metadata": {},
   "outputs": [],
   "source": [
    "real_features, cat_features = get_real_cat_features(data)"
   ]
  },
  {
   "cell_type": "markdown",
   "id": "408b8ffa",
   "metadata": {},
   "source": [
    "## NaN gaps filling strategies"
   ]
  },
  {
   "cell_type": "code",
   "execution_count": 15,
   "id": "a2ca867a",
   "metadata": {},
   "outputs": [
    {
     "data": {
      "text/plain": [
       "0.0"
      ]
     },
     "execution_count": 15,
     "metadata": {},
     "output_type": "execute_result"
    }
   ],
   "source": [
    "data[real_features].max().values.min()"
   ]
  },
  {
   "cell_type": "code",
   "execution_count": 16,
   "id": "229b6529",
   "metadata": {},
   "outputs": [],
   "source": [
    "# All real values are non-negative.\n",
    "# It's possible to try fill gaps in real data with a large negative number"
   ]
  },
  {
   "cell_type": "code",
   "execution_count": 17,
   "id": "4ab56adb",
   "metadata": {},
   "outputs": [],
   "source": [
    "# Let's make a transformer that fills the gaps and scale real data\n",
    "# Real feature gaps are filled with 0 'zero', column average 'mean' or minus-infinity 'minus_inf' = -1e6\n",
    "# Categorical feature gaps are filled with 'null'\n",
    "# Scaling is implemented with 'StandardScaler' or 'MinMaxScaler'\n",
    "\n",
    "class NullCompleterAndScaler(TransformerMixin, BaseEstimator):\n",
    "    def __init__(self, real_feats, cat_feats, rfill, scaler, with_mean=True):\n",
    "        self.real_feats = real_feats\n",
    "        self.cat_feats = cat_feats\n",
    "        self.rfill = rfill\n",
    "        self.scaler = scaler\n",
    "        self.with_mean = with_mean\n",
    "        self._check_params()\n",
    "        \n",
    "    def _check_params(self):\n",
    "        if (self.rfill not in ['zero', 'mean', 'minus_inf'] or\n",
    "            self.scaler not in ['standard', 'minmax']):\n",
    "            raise ValueError\n",
    "        \n",
    "        \n",
    "    def _set_scaler(self):\n",
    "        if self.scaler == 'standard':\n",
    "            return StandardScaler(with_mean=self.with_mean)\n",
    "        if self.scaler == 'minmax':\n",
    "            return MinMaxScaler()\n",
    "        \n",
    "        \n",
    "    def _real_completer(self, X):\n",
    "        minus_inf = -1e6\n",
    "        if self.rfill == 'zero':\n",
    "            return 0\n",
    "        if self.rfill == 'minus_inf':\n",
    "            return minus_inf\n",
    "        if self.rfill == 'mean':\n",
    "            return X.mean()\n",
    "        \n",
    "    \n",
    "    def fit(self, X, y=None):\n",
    "        transformer = Pipeline(steps = [\n",
    "            ('feature_processing', FeatureUnion(transformer_list=[\n",
    "                ('real_feats_processing', Pipeline(steps = [\n",
    "                    ('selecting', FunctionTransformer(lambda X: X.loc[:, self.real_feats])),\n",
    "                    ('fillna', FunctionTransformer(lambda X: X.fillna(self._real_completer(X)))), \n",
    "                    ('scaling', self._set_scaler())])),\n",
    "                ('cat_feats_processing', Pipeline(steps = [\n",
    "                    ('selecting', FunctionTransformer(lambda X: X.loc[:, self.cat_feats])),\n",
    "                    ('fillna', FunctionTransformer(lambda X: X.fillna('null')))])),\n",
    "            ]))\n",
    "        ])\n",
    "        transformer.fit(X)\n",
    "        self.transformer = transformer\n",
    "        return self\n",
    "\n",
    "    \n",
    "    def transform(self, X):\n",
    "        data = self.transformer.transform(X)\n",
    "        df = pd.DataFrame(data=data,\n",
    "                          columns=X.columns)\n",
    "        df[self.real_feats] = df[self.real_feats].astype('float64')\n",
    "        return df"
   ]
  },
  {
   "cell_type": "markdown",
   "id": "feabd6a1",
   "metadata": {},
   "source": [
    "## Zero deviance features"
   ]
  },
  {
   "cell_type": "code",
   "execution_count": 18,
   "id": "d2ba17a7",
   "metadata": {},
   "outputs": [],
   "source": [
    "all_features = [x for x in real_features] + [x for x in cat_features]"
   ]
  },
  {
   "cell_type": "code",
   "execution_count": 19,
   "id": "500abfff",
   "metadata": {},
   "outputs": [],
   "source": [
    "zero_dev_feats = []\n",
    "\n",
    "flag = False\n",
    "\n",
    "for feat in all_features:\n",
    "    if len(data.loc[:, feat].value_counts()) == 1:\n",
    "        zero_dev_feats.append(feat)"
   ]
  },
  {
   "cell_type": "code",
   "execution_count": 20,
   "id": "3752cfb3",
   "metadata": {},
   "outputs": [
    {
     "data": {
      "text/plain": [
       "['Var67', 'Var118', 'Var191', 'Var213', 'Var215', 'Var224']"
      ]
     },
     "execution_count": 20,
     "metadata": {},
     "output_type": "execute_result"
    }
   ],
   "source": [
    "zero_dev_feats"
   ]
  },
  {
   "cell_type": "code",
   "execution_count": 21,
   "id": "9c8a530f",
   "metadata": {},
   "outputs": [],
   "source": [
    "real_features = [x for x in real_features if x not in zero_dev_feats]\n",
    "cat_features = [x for x in cat_features if x not in zero_dev_feats]\n",
    "all_features = real_features + cat_features\n",
    "data = data[all_features]"
   ]
  },
  {
   "cell_type": "markdown",
   "id": "8094573a",
   "metadata": {},
   "source": [
    "## Feature null percentage"
   ]
  },
  {
   "cell_type": "code",
   "execution_count": 22,
   "id": "e64e59d3",
   "metadata": {},
   "outputs": [],
   "source": [
    "null_perc_stat = np.sum(data.isna(), axis=0)/len(data)*100\n",
    "null_perc_stat.sort_values(ascending=False, inplace=True)\n",
    "\n",
    "data_churn = data.iloc[churn_inds, :]\n",
    "data_stayon = data.iloc[stayon_inds, :]\n",
    "\n",
    "null_perc_stat_churn = np.sum(data_churn.isna(), axis=0)/len(data_churn)*100\n",
    "null_perc_stat_churn.sort_values(ascending=False, inplace=True)\n",
    "\n",
    "null_perc_stat_stayon = np.sum(data_stayon.isna(), axis=0)/len(data_stayon)*100\n",
    "null_perc_stat_stayon.sort_values(ascending=False, inplace=True)"
   ]
  },
  {
   "cell_type": "code",
   "execution_count": 23,
   "id": "d0bfe2f3",
   "metadata": {},
   "outputs": [
    {
     "data": {
      "text/html": [
       "<div>\n",
       "<style scoped>\n",
       "    .dataframe tbody tr th:only-of-type {\n",
       "        vertical-align: middle;\n",
       "    }\n",
       "\n",
       "    .dataframe tbody tr th {\n",
       "        vertical-align: top;\n",
       "    }\n",
       "\n",
       "    .dataframe thead th {\n",
       "        text-align: right;\n",
       "    }\n",
       "</style>\n",
       "<table border=\"1\" class=\"dataframe\">\n",
       "  <thead>\n",
       "    <tr style=\"text-align: right;\">\n",
       "      <th></th>\n",
       "      <th>All</th>\n",
       "      <th>Churn</th>\n",
       "      <th>Stayon</th>\n",
       "    </tr>\n",
       "  </thead>\n",
       "  <tbody>\n",
       "    <tr>\n",
       "      <th>Var92</th>\n",
       "      <td>99.715816</td>\n",
       "      <td>99.728148</td>\n",
       "      <td>99.564270</td>\n",
       "    </tr>\n",
       "    <tr>\n",
       "      <th>Var64</th>\n",
       "      <td>99.540933</td>\n",
       "      <td>99.539034</td>\n",
       "      <td>99.564270</td>\n",
       "    </tr>\n",
       "    <tr>\n",
       "      <th>Var190</th>\n",
       "      <td>99.431632</td>\n",
       "      <td>99.444477</td>\n",
       "      <td>99.273784</td>\n",
       "    </tr>\n",
       "    <tr>\n",
       "      <th>Var45</th>\n",
       "      <td>99.300470</td>\n",
       "      <td>99.267183</td>\n",
       "      <td>99.709513</td>\n",
       "    </tr>\n",
       "    <tr>\n",
       "      <th>Var102</th>\n",
       "      <td>99.223959</td>\n",
       "      <td>99.208085</td>\n",
       "      <td>99.419027</td>\n",
       "    </tr>\n",
       "    <tr>\n",
       "      <th>...</th>\n",
       "      <td>...</td>\n",
       "      <td>...</td>\n",
       "      <td>...</td>\n",
       "    </tr>\n",
       "    <tr>\n",
       "      <th>Var198</th>\n",
       "      <td>0.000000</td>\n",
       "      <td>0.000000</td>\n",
       "      <td>0.000000</td>\n",
       "    </tr>\n",
       "    <tr>\n",
       "      <th>Var195</th>\n",
       "      <td>0.000000</td>\n",
       "      <td>0.000000</td>\n",
       "      <td>0.000000</td>\n",
       "    </tr>\n",
       "    <tr>\n",
       "      <th>Var193</th>\n",
       "      <td>0.000000</td>\n",
       "      <td>0.000000</td>\n",
       "      <td>0.000000</td>\n",
       "    </tr>\n",
       "    <tr>\n",
       "      <th>Var57</th>\n",
       "      <td>0.000000</td>\n",
       "      <td>0.000000</td>\n",
       "      <td>0.000000</td>\n",
       "    </tr>\n",
       "    <tr>\n",
       "      <th>Var196</th>\n",
       "      <td>0.000000</td>\n",
       "      <td>0.000000</td>\n",
       "      <td>0.000000</td>\n",
       "    </tr>\n",
       "  </tbody>\n",
       "</table>\n",
       "<p>206 rows × 3 columns</p>\n",
       "</div>"
      ],
      "text/plain": [
       "              All      Churn     Stayon\n",
       "Var92   99.715816  99.728148  99.564270\n",
       "Var64   99.540933  99.539034  99.564270\n",
       "Var190  99.431632  99.444477  99.273784\n",
       "Var45   99.300470  99.267183  99.709513\n",
       "Var102  99.223959  99.208085  99.419027\n",
       "...           ...        ...        ...\n",
       "Var198   0.000000   0.000000   0.000000\n",
       "Var195   0.000000   0.000000   0.000000\n",
       "Var193   0.000000   0.000000   0.000000\n",
       "Var57    0.000000   0.000000   0.000000\n",
       "Var196   0.000000   0.000000   0.000000\n",
       "\n",
       "[206 rows x 3 columns]"
      ]
     },
     "execution_count": 23,
     "metadata": {},
     "output_type": "execute_result"
    }
   ],
   "source": [
    "null_perc_data = pd.DataFrame([null_perc_stat, null_perc_stat_stayon, null_perc_stat_churn],\n",
    "                              index=['All', 'Churn', 'Stayon']).T\n",
    "null_perc_data"
   ]
  },
  {
   "cell_type": "code",
   "execution_count": 24,
   "id": "4dec4d4c",
   "metadata": {},
   "outputs": [
    {
     "data": {
      "image/png": "[encoded data removed]",
      "text/plain": [
       "<Figure size 1440x720 with 1 Axes>"
      ]
     },
     "metadata": {
      "needs_background": "light"
     },
     "output_type": "display_data"
    }
   ],
   "source": [
    "fig = plt.figure(figsize=(20, 10))\n",
    "ax = fig.add_subplot()\n",
    "\n",
    "_len = len(null_perc_data)\n",
    "\n",
    "ax.plot(range(_len), null_perc_data['All'], linestyle='dotted', marker='*', label='All')\n",
    "ax.plot(range(_len) ,null_perc_data['Churn'], linestyle='dotted', marker='*', label='Churn')\n",
    "ax.plot(range(_len) ,null_perc_data['Stayon'], linestyle='dotted', marker='*', label='Stayon')\n",
    "\n",
    "ax.set_ylabel('percentage')\n",
    "ax.set_title('Null amount percentage depending on feature (descending order)')\n",
    "ax.legend()\n",
    "\n",
    "ax.xaxis.set_major_locator(FixedLocator(np.arange(0, 210, 5)))\n",
    "ax.yaxis.set_major_locator(FixedLocator(np.arange(0, 105, 5)))"
   ]
  },
  {
   "cell_type": "code",
   "execution_count": 25,
   "id": "6a44c1d8",
   "metadata": {},
   "outputs": [],
   "source": [
    "# After null percentage 90.3% goes rapid decreasing to 74.6%. Next rapid decreasing is from 74.6 to 52.3\n",
    "# It makes sence to consider null percentage threshold at 80% and 60%"
   ]
  },
  {
   "cell_type": "code",
   "execution_count": 26,
   "id": "c51426f9",
   "metadata": {},
   "outputs": [],
   "source": [
    "# Transformer that deletes features with high null percentage (more than threshold)\n",
    "# Saves remaining columns to self.real_features and self.cat_features\n",
    "\n",
    "class NullPercentageThreshold(TransformerMixin, BaseEstimator):\n",
    "    def __init__(self, threshold=100):\n",
    "        self.threshold = threshold\n",
    "    \n",
    "\n",
    "    def fit(self, X, y=None):\n",
    "        null_perc_stat = np.sum(X.isnull(), axis=0)/len(X)*100\n",
    "        new_columns = null_perc_stat[null_perc_stat < self.threshold].index\n",
    "        self.real_features, self.cat_features = get_real_cat_features(X.loc[:, new_columns]) \n",
    "        self.new_columns = new_columns\n",
    "        return self\n",
    "    \n",
    "    \n",
    "    def transform(self, X):\n",
    "        return X.loc[:, self.new_columns]"
   ]
  },
  {
   "cell_type": "markdown",
   "id": "cca294a8",
   "metadata": {},
   "source": [
    "## Raw run"
   ]
  },
  {
   "cell_type": "code",
   "execution_count": 97,
   "id": "20e5336c",
   "metadata": {},
   "outputs": [],
   "source": [
    "null_perc_thrshld = NullPercentageThreshold(80).fit(data)\n",
    "data_80 = null_perc_thrshld.transform(data)\n",
    "\n",
    "real_features=null_perc_thrshld.real_features\n",
    "cat_features=null_perc_thrshld.cat_features"
   ]
  },
  {
   "cell_type": "code",
   "execution_count": 98,
   "id": "75b043d5",
   "metadata": {},
   "outputs": [],
   "source": [
    "null_compl_scaler = NullCompleterAndScaler(real_feats=real_features,\n",
    "                                           cat_feats=cat_features,\n",
    "                                           rfill='mean', scaler='standard')\n",
    "null_compl_scaler.fit(data_80)\n",
    "data_80_filled = null_compl_scaler.transform(data_80)"
   ]
  },
  {
   "cell_type": "code",
   "execution_count": 99,
   "id": "dc39c71b",
   "metadata": {},
   "outputs": [
    {
     "data": {
      "text/html": [
       "<div>\n",
       "<style scoped>\n",
       "    .dataframe tbody tr th:only-of-type {\n",
       "        vertical-align: middle;\n",
       "    }\n",
       "\n",
       "    .dataframe tbody tr th {\n",
       "        vertical-align: top;\n",
       "    }\n",
       "\n",
       "    .dataframe thead th {\n",
       "        text-align: right;\n",
       "    }\n",
       "</style>\n",
       "<table border=\"1\" class=\"dataframe\">\n",
       "  <thead>\n",
       "    <tr style=\"text-align: right;\">\n",
       "      <th></th>\n",
       "      <th>Var6</th>\n",
       "      <th>Var7</th>\n",
       "      <th>Var13</th>\n",
       "      <th>Var21</th>\n",
       "      <th>Var22</th>\n",
       "      <th>Var24</th>\n",
       "      <th>Var25</th>\n",
       "      <th>Var28</th>\n",
       "      <th>Var35</th>\n",
       "      <th>Var38</th>\n",
       "      <th>...</th>\n",
       "      <th>Var219</th>\n",
       "      <th>Var220</th>\n",
       "      <th>Var221</th>\n",
       "      <th>Var222</th>\n",
       "      <th>Var223</th>\n",
       "      <th>Var225</th>\n",
       "      <th>Var226</th>\n",
       "      <th>Var227</th>\n",
       "      <th>Var228</th>\n",
       "      <th>Var229</th>\n",
       "    </tr>\n",
       "  </thead>\n",
       "  <tbody>\n",
       "    <tr>\n",
       "      <th>0</th>\n",
       "      <td>0.758090</td>\n",
       "      <td>0.000000</td>\n",
       "      <td>-8.891795e-17</td>\n",
       "      <td>0.445697</td>\n",
       "      <td>0.449953</td>\n",
       "      <td>1.557011</td>\n",
       "      <td>1.920575</td>\n",
       "      <td>-0.269845</td>\n",
       "      <td>-0.261179</td>\n",
       "      <td>-0.870906</td>\n",
       "      <td>...</td>\n",
       "      <td>FzaX</td>\n",
       "      <td>hLKtJ9p</td>\n",
       "      <td>Al6ZaUT</td>\n",
       "      <td>vr93T2a</td>\n",
       "      <td>LM8l689qOp</td>\n",
       "      <td>null</td>\n",
       "      <td>fKCe</td>\n",
       "      <td>02N6s8f</td>\n",
       "      <td>xwM2aC7IdeMC0</td>\n",
       "      <td>null</td>\n",
       "    </tr>\n",
       "    <tr>\n",
       "      <th>1</th>\n",
       "      <td>0.220730</td>\n",
       "      <td>0.035193</td>\n",
       "      <td>-2.383817e-01</td>\n",
       "      <td>-0.043751</td>\n",
       "      <td>-0.039065</td>\n",
       "      <td>-0.256271</td>\n",
       "      <td>0.158952</td>\n",
       "      <td>-0.646487</td>\n",
       "      <td>-0.261179</td>\n",
       "      <td>0.047921</td>\n",
       "      <td>...</td>\n",
       "      <td>FzaX</td>\n",
       "      <td>hN8KpA1</td>\n",
       "      <td>oslk</td>\n",
       "      <td>6hQ9lNX</td>\n",
       "      <td>LM8l689qOp</td>\n",
       "      <td>ELof</td>\n",
       "      <td>xb3V</td>\n",
       "      <td>RAYp</td>\n",
       "      <td>55YFVY9</td>\n",
       "      <td>mj86</td>\n",
       "    </tr>\n",
       "    <tr>\n",
       "      <th>2</th>\n",
       "      <td>0.281449</td>\n",
       "      <td>0.035193</td>\n",
       "      <td>-3.119020e-01</td>\n",
       "      <td>-0.109498</td>\n",
       "      <td>-0.104754</td>\n",
       "      <td>-0.457746</td>\n",
       "      <td>-0.121307</td>\n",
       "      <td>0.988932</td>\n",
       "      <td>-0.261179</td>\n",
       "      <td>0.745845</td>\n",
       "      <td>...</td>\n",
       "      <td>FzaX</td>\n",
       "      <td>4UxGlow</td>\n",
       "      <td>zCkv</td>\n",
       "      <td>catzS2D</td>\n",
       "      <td>LM8l689qOp</td>\n",
       "      <td>null</td>\n",
       "      <td>FSa2</td>\n",
       "      <td>ZI9m</td>\n",
       "      <td>ib5G6X1eUxUn6</td>\n",
       "      <td>mj86</td>\n",
       "    </tr>\n",
       "    <tr>\n",
       "      <th>3</th>\n",
       "      <td>0.099293</td>\n",
       "      <td>0.035193</td>\n",
       "      <td>-4.855350e-01</td>\n",
       "      <td>0.175405</td>\n",
       "      <td>0.179898</td>\n",
       "      <td>-0.457746</td>\n",
       "      <td>0.239026</td>\n",
       "      <td>-0.043680</td>\n",
       "      <td>1.543349</td>\n",
       "      <td>-0.597142</td>\n",
       "      <td>...</td>\n",
       "      <td>FzaX</td>\n",
       "      <td>ylCK5YS</td>\n",
       "      <td>oslk</td>\n",
       "      <td>e4lqvY0</td>\n",
       "      <td>LM8l689qOp</td>\n",
       "      <td>null</td>\n",
       "      <td>xb3V</td>\n",
       "      <td>RAYp</td>\n",
       "      <td>F2FyR07IdsN7I</td>\n",
       "      <td>null</td>\n",
       "    </tr>\n",
       "    <tr>\n",
       "      <th>4</th>\n",
       "      <td>-0.268055</td>\n",
       "      <td>0.035193</td>\n",
       "      <td>-4.870992e-01</td>\n",
       "      <td>-0.138719</td>\n",
       "      <td>-0.133949</td>\n",
       "      <td>-0.256271</td>\n",
       "      <td>-0.241417</td>\n",
       "      <td>0.608686</td>\n",
       "      <td>-0.261179</td>\n",
       "      <td>0.628897</td>\n",
       "      <td>...</td>\n",
       "      <td>FzaX</td>\n",
       "      <td>PYpzAu9</td>\n",
       "      <td>oslk</td>\n",
       "      <td>MAz3HNj</td>\n",
       "      <td>LM8l689qOp</td>\n",
       "      <td>null</td>\n",
       "      <td>WqMG</td>\n",
       "      <td>RAYp</td>\n",
       "      <td>F2FyR07IdsN7I</td>\n",
       "      <td>null</td>\n",
       "    </tr>\n",
       "  </tbody>\n",
       "</table>\n",
       "<p>5 rows × 76 columns</p>\n",
       "</div>"
      ],
      "text/plain": [
       "       Var6      Var7         Var13     Var21     Var22     Var24     Var25  \\\n",
       "0  0.758090  0.000000 -8.891795e-17  0.445697  0.449953  1.557011  1.920575   \n",
       "1  0.220730  0.035193 -2.383817e-01 -0.043751 -0.039065 -0.256271  0.158952   \n",
       "2  0.281449  0.035193 -3.119020e-01 -0.109498 -0.104754 -0.457746 -0.121307   \n",
       "3  0.099293  0.035193 -4.855350e-01  0.175405  0.179898 -0.457746  0.239026   \n",
       "4 -0.268055  0.035193 -4.870992e-01 -0.138719 -0.133949 -0.256271 -0.241417   \n",
       "\n",
       "      Var28     Var35     Var38  ...  Var219   Var220   Var221   Var222  \\\n",
       "0 -0.269845 -0.261179 -0.870906  ...    FzaX  hLKtJ9p  Al6ZaUT  vr93T2a   \n",
       "1 -0.646487 -0.261179  0.047921  ...    FzaX  hN8KpA1     oslk  6hQ9lNX   \n",
       "2  0.988932 -0.261179  0.745845  ...    FzaX  4UxGlow     zCkv  catzS2D   \n",
       "3 -0.043680  1.543349 -0.597142  ...    FzaX  ylCK5YS     oslk  e4lqvY0   \n",
       "4  0.608686 -0.261179  0.628897  ...    FzaX  PYpzAu9     oslk  MAz3HNj   \n",
       "\n",
       "       Var223  Var225  Var226   Var227         Var228  Var229  \n",
       "0  LM8l689qOp    null    fKCe  02N6s8f  xwM2aC7IdeMC0    null  \n",
       "1  LM8l689qOp    ELof    xb3V     RAYp        55YFVY9    mj86  \n",
       "2  LM8l689qOp    null    FSa2     ZI9m  ib5G6X1eUxUn6    mj86  \n",
       "3  LM8l689qOp    null    xb3V     RAYp  F2FyR07IdsN7I    null  \n",
       "4  LM8l689qOp    null    WqMG     RAYp  F2FyR07IdsN7I    null  \n",
       "\n",
       "[5 rows x 76 columns]"
      ]
     },
     "execution_count": 99,
     "metadata": {},
     "output_type": "execute_result"
    }
   ],
   "source": [
    "data_80_filled.head()"
   ]
  },
  {
   "cell_type": "code",
   "execution_count": 100,
   "id": "a21d4c83",
   "metadata": {},
   "outputs": [
    {
     "name": "stderr",
     "output_type": "stream",
     "text": [
      "Custom logger is already specified. Specify more than one logger at same time is not thread safe."
     ]
    },
    {
     "data": {
      "application/vnd.jupyter.widget-view+json": {
       "model_id": "65ea0bb78c7d436fb94f9e6b07f5d0a6",
       "version_major": 2,
       "version_minor": 0
      },
      "text/plain": [
       "MetricVisualizer(layout=Layout(align_self='stretch', height='500px'))"
      ]
     },
     "metadata": {},
     "output_type": "display_data"
    },
    {
     "name": "stdout",
     "output_type": "stream",
     "text": [
      "Wall time: 1min 30s\n"
     ]
    }
   ],
   "source": [
    "%%time\n",
    "\n",
    "cv_params = {'random_seed': 19, 'eval_metric': 'AUC',\n",
    "             'loss_function': 'Logloss','logging_level': 'Silent'}\n",
    "\n",
    "cv_data = cv(\n",
    "    Pool(data_80_filled, y, cat_features=list(cat_features)),\n",
    "    cv_params,\n",
    "    fold_count=4,\n",
    "    early_stopping_rounds=50,\n",
    "    plot=True\n",
    ")"
   ]
  },
  {
   "cell_type": "code",
   "execution_count": 139,
   "id": "37eb0b42",
   "metadata": {},
   "outputs": [
    {
     "data": {
      "text/plain": [
       "0.7431252556695975"
      ]
     },
     "execution_count": 139,
     "metadata": {},
     "output_type": "execute_result"
    }
   ],
   "source": [
    "cv_data['test-AUC-mean'].max()"
   ]
  },
  {
   "cell_type": "code",
   "execution_count": 140,
   "id": "dcb26b17",
   "metadata": {},
   "outputs": [
    {
     "data": {
      "text/plain": [
       "306"
      ]
     },
     "execution_count": 140,
     "metadata": {},
     "output_type": "execute_result"
    }
   ],
   "source": [
    "cv_data['test-AUC-mean'].argmax()"
   ]
  },
  {
   "cell_type": "code",
   "execution_count": 60,
   "id": "f28f5632",
   "metadata": {},
   "outputs": [],
   "source": [
    "X_train, X_validate, y_train, y_validate = train_test_split(data_80_filled, y,\n",
    "                                                            train_size=0.75, stratify=y)"
   ]
  },
  {
   "cell_type": "code",
   "execution_count": 93,
   "id": "1ebbdfdb",
   "metadata": {},
   "outputs": [
    {
     "name": "stderr",
     "output_type": "stream",
     "text": [
      "Custom logger is already specified. Specify more than one logger at same time is not thread safe."
     ]
    },
    {
     "data": {
      "application/vnd.jupyter.widget-view+json": {
       "model_id": "201357ec0bfe41ebab0039155fb08ecd",
       "version_major": 2,
       "version_minor": 0
      },
      "text/plain": [
       "MetricVisualizer(layout=Layout(align_self='stretch', height='500px'))"
      ]
     },
     "metadata": {},
     "output_type": "display_data"
    },
    {
     "name": "stdout",
     "output_type": "stream",
     "text": [
      "Wall time: 1min 14s\n"
     ]
    },
    {
     "data": {
      "text/plain": [
       "<catboost.core.CatBoostClassifier at 0x218de6ad4c0>"
      ]
     },
     "execution_count": 93,
     "metadata": {},
     "output_type": "execute_result"
    }
   ],
   "source": [
    "%%time\n",
    "\n",
    "catb_clf = CatBoostClassifier(eval_metric='AUC', random_seed=19)\n",
    "catb_clf.fit(X_train, y_train,\n",
    "             cat_features=list(cat_features),\n",
    "             eval_set=(X_validate, y_validate),\n",
    "             verbose=False,\n",
    "             plot=True)"
   ]
  },
  {
   "cell_type": "markdown",
   "id": "7ab18588",
   "metadata": {},
   "source": [
    "## Choosing null percentage level"
   ]
  },
  {
   "cell_type": "code",
   "execution_count": 34,
   "id": "5d6451fa",
   "metadata": {},
   "outputs": [],
   "source": [
    "null_thresholds = [100, 80, 70, 60]"
   ]
  },
  {
   "cell_type": "markdown",
   "id": "88c3beb7",
   "metadata": {},
   "source": [
    "### with train-test split"
   ]
  },
  {
   "cell_type": "code",
   "execution_count": 125,
   "id": "5db64f36",
   "metadata": {},
   "outputs": [
    {
     "name": "stdout",
     "output_type": "stream",
     "text": [
      "processing threshold 100\n",
      "processing threshold 80\n",
      "processing threshold 70\n",
      "processing threshold 60\n",
      "Wall time: 4min 32s\n"
     ]
    }
   ],
   "source": [
    "%%time\n",
    "\n",
    "null_perc_scores = {'perc_threshold': [],\n",
    "                    'roc_auc_best': [],\n",
    "                    'best_iter': []}\n",
    "\n",
    "for null_threshold in null_thresholds:\n",
    "    print(f'processing threshold {null_threshold}')\n",
    "    null_perc_thr = NullPercentageThreshold(threshold=null_threshold)\n",
    "    _data = null_perc_thr.fit_transform(data)\n",
    "    _X_train, _X_validate, _y_train, _y_validate = train_test_split(_data, y,\n",
    "                                                                    train_size=0.75, stratify=y)\n",
    "    _real_features = list(null_perc_thr.real_features)\n",
    "    _cat_features = list(null_perc_thr.cat_features)\n",
    "    \n",
    "    null_compl_scaler = NullCompleterAndScaler(_real_features, _cat_features,\n",
    "                                               rfill='mean', scaler='standard')\n",
    "    _X_train = null_compl_scaler.fit_transform(_X_train)\n",
    "    _X_validate = null_compl_scaler.transform(_X_validate)\n",
    "    \n",
    "    catb_clf = CatBoostClassifier(eval_metric='AUC', random_seed=19)\n",
    "    catb_clf.fit(_X_train, _y_train,\n",
    "                 cat_features=_cat_features,\n",
    "                 eval_set=(_X_validate, _y_validate),\n",
    "                 verbose=False)\n",
    "    null_perc_scores['perc_threshold'].append(null_threshold)\n",
    "    null_perc_scores['roc_auc_best'].append(catb_clf.get_best_score()['validation']['AUC'])\n",
    "    null_perc_scores['best_iter'].append(catb_clf.get_best_iteration())"
   ]
  },
  {
   "cell_type": "code",
   "execution_count": 127,
   "id": "45cf20df",
   "metadata": {},
   "outputs": [
    {
     "data": {
      "text/html": [
       "<div>\n",
       "<style scoped>\n",
       "    .dataframe tbody tr th:only-of-type {\n",
       "        vertical-align: middle;\n",
       "    }\n",
       "\n",
       "    .dataframe tbody tr th {\n",
       "        vertical-align: top;\n",
       "    }\n",
       "\n",
       "    .dataframe thead th {\n",
       "        text-align: right;\n",
       "    }\n",
       "</style>\n",
       "<table border=\"1\" class=\"dataframe\">\n",
       "  <thead>\n",
       "    <tr style=\"text-align: right;\">\n",
       "      <th></th>\n",
       "      <th>perc_threshold</th>\n",
       "      <th>roc_auc_best</th>\n",
       "      <th>best_iter</th>\n",
       "    </tr>\n",
       "  </thead>\n",
       "  <tbody>\n",
       "    <tr>\n",
       "      <th>0</th>\n",
       "      <td>100</td>\n",
       "      <td>0.732908</td>\n",
       "      <td>305</td>\n",
       "    </tr>\n",
       "    <tr>\n",
       "      <th>1</th>\n",
       "      <td>80</td>\n",
       "      <td>0.723821</td>\n",
       "      <td>163</td>\n",
       "    </tr>\n",
       "    <tr>\n",
       "      <th>2</th>\n",
       "      <td>70</td>\n",
       "      <td>0.750292</td>\n",
       "      <td>153</td>\n",
       "    </tr>\n",
       "    <tr>\n",
       "      <th>3</th>\n",
       "      <td>60</td>\n",
       "      <td>0.737684</td>\n",
       "      <td>201</td>\n",
       "    </tr>\n",
       "  </tbody>\n",
       "</table>\n",
       "</div>"
      ],
      "text/plain": [
       "   perc_threshold  roc_auc_best  best_iter\n",
       "0             100      0.732908        305\n",
       "1              80      0.723821        163\n",
       "2              70      0.750292        153\n",
       "3              60      0.737684        201"
      ]
     },
     "execution_count": 127,
     "metadata": {},
     "output_type": "execute_result"
    }
   ],
   "source": [
    "pd.DataFrame(null_perc_scores)"
   ]
  },
  {
   "cell_type": "markdown",
   "id": "2ddd934d",
   "metadata": {},
   "source": [
    "### with cross-validation"
   ]
  },
  {
   "cell_type": "code",
   "execution_count": 141,
   "id": "797d4a12",
   "metadata": {},
   "outputs": [
    {
     "name": "stdout",
     "output_type": "stream",
     "text": [
      "processing threshold 100\n",
      "processing threshold 80\n",
      "processing threshold 70\n",
      "processing threshold 60\n",
      "Wall time: 10min\n"
     ]
    }
   ],
   "source": [
    "%%time\n",
    "\n",
    "null_perc_scores = {'perc_threshold': [],\n",
    "                    'roc_auc_best': [],\n",
    "                    'best_iter': []}\n",
    "\n",
    "for null_threshold in null_thresholds:\n",
    "    print(f'processing threshold {null_threshold}')\n",
    "    null_perc_thr = NullPercentageThreshold(threshold=null_threshold)\n",
    "    _data = null_perc_thr.fit_transform(data)\n",
    "\n",
    "    _real_features = list(null_perc_thr.real_features)\n",
    "    _cat_features = list(null_perc_thr.cat_features)\n",
    "    \n",
    "    null_compl_scaler = NullCompleterAndScaler(_real_features, _cat_features,\n",
    "                                               rfill='mean', scaler='standard')\n",
    "    _data = null_compl_scaler.fit_transform(_data)\n",
    "    \n",
    "    cv_params = {'random_seed': 19, 'eval_metric': 'AUC',\n",
    "                 'loss_function': 'Logloss','logging_level': 'Silent'}\n",
    "    cv_data = cv(\n",
    "        Pool(_data, y, cat_features=_cat_features),\n",
    "        cv_params,\n",
    "        fold_count=4,\n",
    "        early_stopping_rounds=100,\n",
    "    )\n",
    "\n",
    "    null_perc_scores['perc_threshold'].append(null_threshold)\n",
    "    null_perc_scores['roc_auc_best'].append(cv_data['test-AUC-mean'].max())\n",
    "    null_perc_scores['best_iter'].append(cv_data['test-AUC-mean'].argmax())"
   ]
  },
  {
   "cell_type": "code",
   "execution_count": 142,
   "id": "ba398454",
   "metadata": {},
   "outputs": [
    {
     "data": {
      "text/html": [
       "<div>\n",
       "<style scoped>\n",
       "    .dataframe tbody tr th:only-of-type {\n",
       "        vertical-align: middle;\n",
       "    }\n",
       "\n",
       "    .dataframe tbody tr th {\n",
       "        vertical-align: top;\n",
       "    }\n",
       "\n",
       "    .dataframe thead th {\n",
       "        text-align: right;\n",
       "    }\n",
       "</style>\n",
       "<table border=\"1\" class=\"dataframe\">\n",
       "  <thead>\n",
       "    <tr style=\"text-align: right;\">\n",
       "      <th></th>\n",
       "      <th>perc_threshold</th>\n",
       "      <th>roc_auc_best</th>\n",
       "      <th>best_iter</th>\n",
       "    </tr>\n",
       "  </thead>\n",
       "  <tbody>\n",
       "    <tr>\n",
       "      <th>0</th>\n",
       "      <td>100</td>\n",
       "      <td>0.745256</td>\n",
       "      <td>544</td>\n",
       "    </tr>\n",
       "    <tr>\n",
       "      <th>1</th>\n",
       "      <td>80</td>\n",
       "      <td>0.744686</td>\n",
       "      <td>764</td>\n",
       "    </tr>\n",
       "    <tr>\n",
       "      <th>2</th>\n",
       "      <td>70</td>\n",
       "      <td>0.746988</td>\n",
       "      <td>490</td>\n",
       "    </tr>\n",
       "    <tr>\n",
       "      <th>3</th>\n",
       "      <td>60</td>\n",
       "      <td>0.746988</td>\n",
       "      <td>490</td>\n",
       "    </tr>\n",
       "  </tbody>\n",
       "</table>\n",
       "</div>"
      ],
      "text/plain": [
       "   perc_threshold  roc_auc_best  best_iter\n",
       "0             100      0.745256        544\n",
       "1              80      0.744686        764\n",
       "2              70      0.746988        490\n",
       "3              60      0.746988        490"
      ]
     },
     "execution_count": 142,
     "metadata": {},
     "output_type": "execute_result"
    }
   ],
   "source": [
    "pd.DataFrame(null_perc_scores)"
   ]
  },
  {
   "cell_type": "code",
   "execution_count": 72,
   "id": "d28fbe27",
   "metadata": {},
   "outputs": [],
   "source": [
    "# Both approaches shows that 70% threshold is the best"
   ]
  },
  {
   "cell_type": "code",
   "execution_count": 101,
   "id": "c6114994",
   "metadata": {},
   "outputs": [],
   "source": [
    "null_perc_thr = NullPercentageThreshold(threshold=70)\n",
    "X = null_perc_thr.fit_transform(data)\n",
    "real_features = list(null_perc_thr.real_features)\n",
    "cat_features = list(null_perc_thr.cat_features)"
   ]
  },
  {
   "cell_type": "markdown",
   "id": "8af82634",
   "metadata": {},
   "source": [
    "## Choosing best completing and scaling"
   ]
  },
  {
   "cell_type": "code",
   "execution_count": 36,
   "id": "bc844090",
   "metadata": {},
   "outputs": [],
   "source": [
    "rfill_options = ['zero', 'mean', 'minus_inf']\n",
    "scalers = [('standard', True), ('standard', False), ('minmax', None)] # second value in tuple is for 'with_mean' parameter"
   ]
  },
  {
   "cell_type": "code",
   "execution_count": 198,
   "id": "c8a91334",
   "metadata": {},
   "outputs": [
    {
     "name": "stdout",
     "output_type": "stream",
     "text": [
      "processing standard (with_mean=True) with rfill=zero\n",
      "processing standard (with_mean=False) with rfill=zero\n",
      "processing minmax (with_mean=None) with rfill=zero\n",
      "processing standard (with_mean=True) with rfill=mean\n",
      "processing standard (with_mean=False) with rfill=mean\n",
      "processing minmax (with_mean=None) with rfill=mean\n",
      "processing standard (with_mean=True) with rfill=minus_inf\n",
      "processing standard (with_mean=False) with rfill=minus_inf\n",
      "processing minmax (with_mean=None) with rfill=minus_inf\n"
     ]
    }
   ],
   "source": [
    "cv_params = {'random_seed': 19, 'eval_metric': 'AUC',\n",
    "             'loss_function': 'Logloss','logging_level': 'Silent'}\n",
    "\n",
    "completing_scaling_scores = {'rfill': [],\n",
    "                             'scaler': [],\n",
    "                             'roc_auc_mean': [],\n",
    "                             'best_iter': []}\n",
    "for rfill in rfill_options:\n",
    "    for scaler, with_mean in scalers:\n",
    "        print(f'processing {scaler} (with_mean={with_mean}) with rfill={rfill}')\n",
    "        null_compl_scaler = NullCompleterAndScaler(real_features, cat_features,\n",
    "                                                   rfill=rfill, scaler=scaler, with_mean=with_mean)\n",
    "        _X = null_compl_scaler.fit_transform(X)\n",
    "        cv_data = cv(\n",
    "            Pool(_X, y, cat_features=cat_features),\n",
    "            cv_params,\n",
    "            fold_count=4,\n",
    "            early_stopping_rounds=100,\n",
    "        )\n",
    "        scaler_name = scaler if with_mean is None else f'{scaler}_with_mean={with_mean}'\n",
    "        completing_scaling_scores['rfill'].append(rfill)\n",
    "        completing_scaling_scores['scaler'].append(scaler_name)\n",
    "        completing_scaling_scores['roc_auc_mean'].append(cv_data['test-AUC-mean'].max())\n",
    "        completing_scaling_scores['best_iter'].append(cv_data['test-AUC-mean'].argmax())"
   ]
  },
  {
   "cell_type": "code",
   "execution_count": 199,
   "id": "a2246431",
   "metadata": {},
   "outputs": [
    {
     "data": {
      "text/html": [
       "<div>\n",
       "<style scoped>\n",
       "    .dataframe tbody tr th:only-of-type {\n",
       "        vertical-align: middle;\n",
       "    }\n",
       "\n",
       "    .dataframe tbody tr th {\n",
       "        vertical-align: top;\n",
       "    }\n",
       "\n",
       "    .dataframe thead th {\n",
       "        text-align: right;\n",
       "    }\n",
       "</style>\n",
       "<table border=\"1\" class=\"dataframe\">\n",
       "  <thead>\n",
       "    <tr style=\"text-align: right;\">\n",
       "      <th></th>\n",
       "      <th>rfill</th>\n",
       "      <th>scaler</th>\n",
       "      <th>roc_auc_mean</th>\n",
       "      <th>best_iter</th>\n",
       "    </tr>\n",
       "  </thead>\n",
       "  <tbody>\n",
       "    <tr>\n",
       "      <th>0</th>\n",
       "      <td>zero</td>\n",
       "      <td>standard_with_mean=True</td>\n",
       "      <td>0.742262</td>\n",
       "      <td>435</td>\n",
       "    </tr>\n",
       "    <tr>\n",
       "      <th>1</th>\n",
       "      <td>zero</td>\n",
       "      <td>standard_with_mean=False</td>\n",
       "      <td>0.742260</td>\n",
       "      <td>435</td>\n",
       "    </tr>\n",
       "    <tr>\n",
       "      <th>2</th>\n",
       "      <td>zero</td>\n",
       "      <td>minmax</td>\n",
       "      <td>0.742995</td>\n",
       "      <td>437</td>\n",
       "    </tr>\n",
       "    <tr>\n",
       "      <th>3</th>\n",
       "      <td>mean</td>\n",
       "      <td>standard_with_mean=True</td>\n",
       "      <td>0.746988</td>\n",
       "      <td>490</td>\n",
       "    </tr>\n",
       "    <tr>\n",
       "      <th>4</th>\n",
       "      <td>mean</td>\n",
       "      <td>standard_with_mean=False</td>\n",
       "      <td>0.746712</td>\n",
       "      <td>490</td>\n",
       "    </tr>\n",
       "    <tr>\n",
       "      <th>5</th>\n",
       "      <td>mean</td>\n",
       "      <td>minmax</td>\n",
       "      <td>0.746713</td>\n",
       "      <td>490</td>\n",
       "    </tr>\n",
       "    <tr>\n",
       "      <th>6</th>\n",
       "      <td>minus_inf</td>\n",
       "      <td>standard_with_mean=True</td>\n",
       "      <td>0.739428</td>\n",
       "      <td>982</td>\n",
       "    </tr>\n",
       "    <tr>\n",
       "      <th>7</th>\n",
       "      <td>minus_inf</td>\n",
       "      <td>standard_with_mean=False</td>\n",
       "      <td>0.739429</td>\n",
       "      <td>982</td>\n",
       "    </tr>\n",
       "    <tr>\n",
       "      <th>8</th>\n",
       "      <td>minus_inf</td>\n",
       "      <td>minmax</td>\n",
       "      <td>0.737968</td>\n",
       "      <td>435</td>\n",
       "    </tr>\n",
       "  </tbody>\n",
       "</table>\n",
       "</div>"
      ],
      "text/plain": [
       "       rfill                    scaler  roc_auc_mean  best_iter\n",
       "0       zero   standard_with_mean=True      0.742262        435\n",
       "1       zero  standard_with_mean=False      0.742260        435\n",
       "2       zero                    minmax      0.742995        437\n",
       "3       mean   standard_with_mean=True      0.746988        490\n",
       "4       mean  standard_with_mean=False      0.746712        490\n",
       "5       mean                    minmax      0.746713        490\n",
       "6  minus_inf   standard_with_mean=True      0.739428        982\n",
       "7  minus_inf  standard_with_mean=False      0.739429        982\n",
       "8  minus_inf                    minmax      0.737968        435"
      ]
     },
     "execution_count": 199,
     "metadata": {},
     "output_type": "execute_result"
    }
   ],
   "source": [
    "pd.DataFrame(completing_scaling_scores)"
   ]
  },
  {
   "cell_type": "code",
   "execution_count": 88,
   "id": "d9eca548",
   "metadata": {},
   "outputs": [],
   "source": [
    "# So let's choose Standard scaling with mean fillng"
   ]
  },
  {
   "cell_type": "code",
   "execution_count": 103,
   "id": "6ee586bf",
   "metadata": {},
   "outputs": [],
   "source": [
    "null_compl_scaler = NullCompleterAndScaler(real_features, cat_features,\n",
    "                                           rfill='mean', scaler='standard')"
   ]
  },
  {
   "cell_type": "code",
   "execution_count": 104,
   "id": "8725de60",
   "metadata": {},
   "outputs": [],
   "source": [
    "X = null_compl_scaler.fit_transform(X)"
   ]
  },
  {
   "cell_type": "code",
   "execution_count": 105,
   "id": "f2a32f0f",
   "metadata": {},
   "outputs": [
    {
     "data": {
      "text/html": [
       "<div>\n",
       "<style scoped>\n",
       "    .dataframe tbody tr th:only-of-type {\n",
       "        vertical-align: middle;\n",
       "    }\n",
       "\n",
       "    .dataframe tbody tr th {\n",
       "        vertical-align: top;\n",
       "    }\n",
       "\n",
       "    .dataframe thead th {\n",
       "        text-align: right;\n",
       "    }\n",
       "</style>\n",
       "<table border=\"1\" class=\"dataframe\">\n",
       "  <thead>\n",
       "    <tr style=\"text-align: right;\">\n",
       "      <th></th>\n",
       "      <th>Var6</th>\n",
       "      <th>Var7</th>\n",
       "      <th>Var13</th>\n",
       "      <th>Var21</th>\n",
       "      <th>Var22</th>\n",
       "      <th>Var24</th>\n",
       "      <th>Var25</th>\n",
       "      <th>Var28</th>\n",
       "      <th>Var35</th>\n",
       "      <th>Var38</th>\n",
       "      <th>...</th>\n",
       "      <th>Var219</th>\n",
       "      <th>Var220</th>\n",
       "      <th>Var221</th>\n",
       "      <th>Var222</th>\n",
       "      <th>Var223</th>\n",
       "      <th>Var225</th>\n",
       "      <th>Var226</th>\n",
       "      <th>Var227</th>\n",
       "      <th>Var228</th>\n",
       "      <th>Var229</th>\n",
       "    </tr>\n",
       "  </thead>\n",
       "  <tbody>\n",
       "    <tr>\n",
       "      <th>0</th>\n",
       "      <td>0.758090</td>\n",
       "      <td>0.000000</td>\n",
       "      <td>-8.891795e-17</td>\n",
       "      <td>0.445697</td>\n",
       "      <td>0.449953</td>\n",
       "      <td>1.557011</td>\n",
       "      <td>1.920575</td>\n",
       "      <td>-0.269845</td>\n",
       "      <td>-0.261179</td>\n",
       "      <td>-0.870906</td>\n",
       "      <td>...</td>\n",
       "      <td>FzaX</td>\n",
       "      <td>hLKtJ9p</td>\n",
       "      <td>Al6ZaUT</td>\n",
       "      <td>vr93T2a</td>\n",
       "      <td>LM8l689qOp</td>\n",
       "      <td>null</td>\n",
       "      <td>fKCe</td>\n",
       "      <td>02N6s8f</td>\n",
       "      <td>xwM2aC7IdeMC0</td>\n",
       "      <td>null</td>\n",
       "    </tr>\n",
       "    <tr>\n",
       "      <th>1</th>\n",
       "      <td>0.220730</td>\n",
       "      <td>0.035193</td>\n",
       "      <td>-2.383817e-01</td>\n",
       "      <td>-0.043751</td>\n",
       "      <td>-0.039065</td>\n",
       "      <td>-0.256271</td>\n",
       "      <td>0.158952</td>\n",
       "      <td>-0.646487</td>\n",
       "      <td>-0.261179</td>\n",
       "      <td>0.047921</td>\n",
       "      <td>...</td>\n",
       "      <td>FzaX</td>\n",
       "      <td>hN8KpA1</td>\n",
       "      <td>oslk</td>\n",
       "      <td>6hQ9lNX</td>\n",
       "      <td>LM8l689qOp</td>\n",
       "      <td>ELof</td>\n",
       "      <td>xb3V</td>\n",
       "      <td>RAYp</td>\n",
       "      <td>55YFVY9</td>\n",
       "      <td>mj86</td>\n",
       "    </tr>\n",
       "    <tr>\n",
       "      <th>2</th>\n",
       "      <td>0.281449</td>\n",
       "      <td>0.035193</td>\n",
       "      <td>-3.119020e-01</td>\n",
       "      <td>-0.109498</td>\n",
       "      <td>-0.104754</td>\n",
       "      <td>-0.457746</td>\n",
       "      <td>-0.121307</td>\n",
       "      <td>0.988932</td>\n",
       "      <td>-0.261179</td>\n",
       "      <td>0.745845</td>\n",
       "      <td>...</td>\n",
       "      <td>FzaX</td>\n",
       "      <td>4UxGlow</td>\n",
       "      <td>zCkv</td>\n",
       "      <td>catzS2D</td>\n",
       "      <td>LM8l689qOp</td>\n",
       "      <td>null</td>\n",
       "      <td>FSa2</td>\n",
       "      <td>ZI9m</td>\n",
       "      <td>ib5G6X1eUxUn6</td>\n",
       "      <td>mj86</td>\n",
       "    </tr>\n",
       "    <tr>\n",
       "      <th>3</th>\n",
       "      <td>0.099293</td>\n",
       "      <td>0.035193</td>\n",
       "      <td>-4.855350e-01</td>\n",
       "      <td>0.175405</td>\n",
       "      <td>0.179898</td>\n",
       "      <td>-0.457746</td>\n",
       "      <td>0.239026</td>\n",
       "      <td>-0.043680</td>\n",
       "      <td>1.543349</td>\n",
       "      <td>-0.597142</td>\n",
       "      <td>...</td>\n",
       "      <td>FzaX</td>\n",
       "      <td>ylCK5YS</td>\n",
       "      <td>oslk</td>\n",
       "      <td>e4lqvY0</td>\n",
       "      <td>LM8l689qOp</td>\n",
       "      <td>null</td>\n",
       "      <td>xb3V</td>\n",
       "      <td>RAYp</td>\n",
       "      <td>F2FyR07IdsN7I</td>\n",
       "      <td>null</td>\n",
       "    </tr>\n",
       "    <tr>\n",
       "      <th>4</th>\n",
       "      <td>-0.268055</td>\n",
       "      <td>0.035193</td>\n",
       "      <td>-4.870992e-01</td>\n",
       "      <td>-0.138719</td>\n",
       "      <td>-0.133949</td>\n",
       "      <td>-0.256271</td>\n",
       "      <td>-0.241417</td>\n",
       "      <td>0.608686</td>\n",
       "      <td>-0.261179</td>\n",
       "      <td>0.628897</td>\n",
       "      <td>...</td>\n",
       "      <td>FzaX</td>\n",
       "      <td>PYpzAu9</td>\n",
       "      <td>oslk</td>\n",
       "      <td>MAz3HNj</td>\n",
       "      <td>LM8l689qOp</td>\n",
       "      <td>null</td>\n",
       "      <td>WqMG</td>\n",
       "      <td>RAYp</td>\n",
       "      <td>F2FyR07IdsN7I</td>\n",
       "      <td>null</td>\n",
       "    </tr>\n",
       "    <tr>\n",
       "      <th>...</th>\n",
       "      <td>...</td>\n",
       "      <td>...</td>\n",
       "      <td>...</td>\n",
       "      <td>...</td>\n",
       "      <td>...</td>\n",
       "      <td>...</td>\n",
       "      <td>...</td>\n",
       "      <td>...</td>\n",
       "      <td>...</td>\n",
       "      <td>...</td>\n",
       "      <td>...</td>\n",
       "      <td>...</td>\n",
       "      <td>...</td>\n",
       "      <td>...</td>\n",
       "      <td>...</td>\n",
       "      <td>...</td>\n",
       "      <td>...</td>\n",
       "      <td>...</td>\n",
       "      <td>...</td>\n",
       "      <td>...</td>\n",
       "      <td>...</td>\n",
       "    </tr>\n",
       "    <tr>\n",
       "      <th>18293</th>\n",
       "      <td>1.122402</td>\n",
       "      <td>-1.144308</td>\n",
       "      <td>-4.870992e-01</td>\n",
       "      <td>2.337746</td>\n",
       "      <td>2.340333</td>\n",
       "      <td>1.154060</td>\n",
       "      <td>1.560243</td>\n",
       "      <td>-0.420322</td>\n",
       "      <td>-0.261179</td>\n",
       "      <td>-0.019784</td>\n",
       "      <td>...</td>\n",
       "      <td>null</td>\n",
       "      <td>fmK1UQz</td>\n",
       "      <td>oslk</td>\n",
       "      <td>LsdaF5M</td>\n",
       "      <td>null</td>\n",
       "      <td>null</td>\n",
       "      <td>Xa3G</td>\n",
       "      <td>RAYp</td>\n",
       "      <td>F2FyR07IdsN7I</td>\n",
       "      <td>null</td>\n",
       "    </tr>\n",
       "    <tr>\n",
       "      <th>18294</th>\n",
       "      <td>-0.365205</td>\n",
       "      <td>-1.144308</td>\n",
       "      <td>-4.870992e-01</td>\n",
       "      <td>0.591801</td>\n",
       "      <td>0.595928</td>\n",
       "      <td>0.348157</td>\n",
       "      <td>0.679432</td>\n",
       "      <td>-0.420322</td>\n",
       "      <td>-0.261179</td>\n",
       "      <td>1.363051</td>\n",
       "      <td>...</td>\n",
       "      <td>FzaX</td>\n",
       "      <td>25cNqhB</td>\n",
       "      <td>oslk</td>\n",
       "      <td>mErwEWL</td>\n",
       "      <td>LM8l689qOp</td>\n",
       "      <td>null</td>\n",
       "      <td>uWr3</td>\n",
       "      <td>RAYp</td>\n",
       "      <td>F2FyR07IdsN7I</td>\n",
       "      <td>null</td>\n",
       "    </tr>\n",
       "    <tr>\n",
       "      <th>18295</th>\n",
       "      <td>0.129652</td>\n",
       "      <td>0.035193</td>\n",
       "      <td>2.543605e-01</td>\n",
       "      <td>-0.146024</td>\n",
       "      <td>-0.141247</td>\n",
       "      <td>-0.054795</td>\n",
       "      <td>-0.401565</td>\n",
       "      <td>-1.023129</td>\n",
       "      <td>-0.261179</td>\n",
       "      <td>-0.886174</td>\n",
       "      <td>...</td>\n",
       "      <td>FzaX</td>\n",
       "      <td>4UxGlow</td>\n",
       "      <td>zCkv</td>\n",
       "      <td>catzS2D</td>\n",
       "      <td>LM8l689qOp</td>\n",
       "      <td>kG3k</td>\n",
       "      <td>uWr3</td>\n",
       "      <td>ZI9m</td>\n",
       "      <td>ib5G6X1eUxUn6</td>\n",
       "      <td>am7c</td>\n",
       "    </tr>\n",
       "    <tr>\n",
       "      <th>18296</th>\n",
       "      <td>-0.028216</td>\n",
       "      <td>0.035193</td>\n",
       "      <td>1.294594e+00</td>\n",
       "      <td>-0.131414</td>\n",
       "      <td>-0.126650</td>\n",
       "      <td>0.348157</td>\n",
       "      <td>-0.361528</td>\n",
       "      <td>1.500733</td>\n",
       "      <td>-0.261179</td>\n",
       "      <td>-0.779492</td>\n",
       "      <td>...</td>\n",
       "      <td>FzaX</td>\n",
       "      <td>4UxGlow</td>\n",
       "      <td>oslk</td>\n",
       "      <td>catzS2D</td>\n",
       "      <td>LM8l689qOp</td>\n",
       "      <td>ELof</td>\n",
       "      <td>Qcbd</td>\n",
       "      <td>ZI9m</td>\n",
       "      <td>55YFVY9</td>\n",
       "      <td>am7c</td>\n",
       "    </tr>\n",
       "    <tr>\n",
       "      <th>18297</th>\n",
       "      <td>-0.474499</td>\n",
       "      <td>-1.144308</td>\n",
       "      <td>-4.870992e-01</td>\n",
       "      <td>-0.372486</td>\n",
       "      <td>-0.367509</td>\n",
       "      <td>-0.457746</td>\n",
       "      <td>-0.481639</td>\n",
       "      <td>-0.646487</td>\n",
       "      <td>-0.261179</td>\n",
       "      <td>-0.899890</td>\n",
       "      <td>...</td>\n",
       "      <td>qxDb</td>\n",
       "      <td>3vmoOXS</td>\n",
       "      <td>oslk</td>\n",
       "      <td>wg_DmEs</td>\n",
       "      <td>LM8l689qOp</td>\n",
       "      <td>null</td>\n",
       "      <td>WqMG</td>\n",
       "      <td>RAYp</td>\n",
       "      <td>F2FyR07IdsN7I</td>\n",
       "      <td>null</td>\n",
       "    </tr>\n",
       "  </tbody>\n",
       "</table>\n",
       "<p>18298 rows × 74 columns</p>\n",
       "</div>"
      ],
      "text/plain": [
       "           Var6      Var7         Var13     Var21     Var22     Var24  \\\n",
       "0      0.758090  0.000000 -8.891795e-17  0.445697  0.449953  1.557011   \n",
       "1      0.220730  0.035193 -2.383817e-01 -0.043751 -0.039065 -0.256271   \n",
       "2      0.281449  0.035193 -3.119020e-01 -0.109498 -0.104754 -0.457746   \n",
       "3      0.099293  0.035193 -4.855350e-01  0.175405  0.179898 -0.457746   \n",
       "4     -0.268055  0.035193 -4.870992e-01 -0.138719 -0.133949 -0.256271   \n",
       "...         ...       ...           ...       ...       ...       ...   \n",
       "18293  1.122402 -1.144308 -4.870992e-01  2.337746  2.340333  1.154060   \n",
       "18294 -0.365205 -1.144308 -4.870992e-01  0.591801  0.595928  0.348157   \n",
       "18295  0.129652  0.035193  2.543605e-01 -0.146024 -0.141247 -0.054795   \n",
       "18296 -0.028216  0.035193  1.294594e+00 -0.131414 -0.126650  0.348157   \n",
       "18297 -0.474499 -1.144308 -4.870992e-01 -0.372486 -0.367509 -0.457746   \n",
       "\n",
       "          Var25     Var28     Var35     Var38  ...  Var219   Var220   Var221  \\\n",
       "0      1.920575 -0.269845 -0.261179 -0.870906  ...    FzaX  hLKtJ9p  Al6ZaUT   \n",
       "1      0.158952 -0.646487 -0.261179  0.047921  ...    FzaX  hN8KpA1     oslk   \n",
       "2     -0.121307  0.988932 -0.261179  0.745845  ...    FzaX  4UxGlow     zCkv   \n",
       "3      0.239026 -0.043680  1.543349 -0.597142  ...    FzaX  ylCK5YS     oslk   \n",
       "4     -0.241417  0.608686 -0.261179  0.628897  ...    FzaX  PYpzAu9     oslk   \n",
       "...         ...       ...       ...       ...  ...     ...      ...      ...   \n",
       "18293  1.560243 -0.420322 -0.261179 -0.019784  ...    null  fmK1UQz     oslk   \n",
       "18294  0.679432 -0.420322 -0.261179  1.363051  ...    FzaX  25cNqhB     oslk   \n",
       "18295 -0.401565 -1.023129 -0.261179 -0.886174  ...    FzaX  4UxGlow     zCkv   \n",
       "18296 -0.361528  1.500733 -0.261179 -0.779492  ...    FzaX  4UxGlow     oslk   \n",
       "18297 -0.481639 -0.646487 -0.261179 -0.899890  ...    qxDb  3vmoOXS     oslk   \n",
       "\n",
       "        Var222      Var223  Var225  Var226   Var227         Var228  Var229  \n",
       "0      vr93T2a  LM8l689qOp    null    fKCe  02N6s8f  xwM2aC7IdeMC0    null  \n",
       "1      6hQ9lNX  LM8l689qOp    ELof    xb3V     RAYp        55YFVY9    mj86  \n",
       "2      catzS2D  LM8l689qOp    null    FSa2     ZI9m  ib5G6X1eUxUn6    mj86  \n",
       "3      e4lqvY0  LM8l689qOp    null    xb3V     RAYp  F2FyR07IdsN7I    null  \n",
       "4      MAz3HNj  LM8l689qOp    null    WqMG     RAYp  F2FyR07IdsN7I    null  \n",
       "...        ...         ...     ...     ...      ...            ...     ...  \n",
       "18293  LsdaF5M        null    null    Xa3G     RAYp  F2FyR07IdsN7I    null  \n",
       "18294  mErwEWL  LM8l689qOp    null    uWr3     RAYp  F2FyR07IdsN7I    null  \n",
       "18295  catzS2D  LM8l689qOp    kG3k    uWr3     ZI9m  ib5G6X1eUxUn6    am7c  \n",
       "18296  catzS2D  LM8l689qOp    ELof    Qcbd     ZI9m        55YFVY9    am7c  \n",
       "18297  wg_DmEs  LM8l689qOp    null    WqMG     RAYp  F2FyR07IdsN7I    null  \n",
       "\n",
       "[18298 rows x 74 columns]"
      ]
     },
     "execution_count": 105,
     "metadata": {},
     "output_type": "execute_result"
    }
   ],
   "source": [
    "X"
   ]
  },
  {
   "cell_type": "code",
   "execution_count": null,
   "id": "6edd0c62",
   "metadata": {},
   "outputs": [],
   "source": []
  },
  {
   "cell_type": "code",
   "execution_count": 118,
   "id": "190d980c",
   "metadata": {},
   "outputs": [
    {
     "data": {
      "application/vnd.jupyter.widget-view+json": {
       "model_id": "0a054946ea2742f8ba8b09bb94714119",
       "version_major": 2,
       "version_minor": 0
      },
      "text/plain": [
       "MetricVisualizer(layout=Layout(align_self='stretch', height='500px'))"
      ]
     },
     "metadata": {},
     "output_type": "display_data"
    },
    {
     "name": "stdout",
     "output_type": "stream",
     "text": [
      "Wall time: 2min 37s\n"
     ]
    }
   ],
   "source": [
    "%%time\n",
    "\n",
    "cv_params = {'random_seed': 19, 'eval_metric': 'AUC',\n",
    "             'loss_function': 'Logloss','logging_level': 'Silent'}\n",
    "\n",
    "cv_data1 = cv(\n",
    "    Pool(X, y, cat_features=cat_features),\n",
    "    cv_params,\n",
    "    fold_count=4,\n",
    "    early_stopping_rounds=150,\n",
    "    stratified=True,\n",
    "    plot=True\n",
    ")"
   ]
  },
  {
   "cell_type": "code",
   "execution_count": 119,
   "id": "fef2f923",
   "metadata": {},
   "outputs": [
    {
     "data": {
      "text/plain": [
       "0.7464648494986902"
      ]
     },
     "execution_count": 119,
     "metadata": {},
     "output_type": "execute_result"
    }
   ],
   "source": [
    "cv_data1['test-AUC-mean'].max()"
   ]
  },
  {
   "cell_type": "code",
   "execution_count": 108,
   "id": "bbae564e",
   "metadata": {},
   "outputs": [
    {
     "data": {
      "text/html": [
       "<div>\n",
       "<style scoped>\n",
       "    .dataframe tbody tr th:only-of-type {\n",
       "        vertical-align: middle;\n",
       "    }\n",
       "\n",
       "    .dataframe tbody tr th {\n",
       "        vertical-align: top;\n",
       "    }\n",
       "\n",
       "    .dataframe thead th {\n",
       "        text-align: right;\n",
       "    }\n",
       "</style>\n",
       "<table border=\"1\" class=\"dataframe\">\n",
       "  <thead>\n",
       "    <tr style=\"text-align: right;\">\n",
       "      <th></th>\n",
       "      <th>iterations</th>\n",
       "      <th>test-AUC-mean</th>\n",
       "      <th>test-AUC-std</th>\n",
       "      <th>test-Logloss-mean</th>\n",
       "      <th>test-Logloss-std</th>\n",
       "      <th>train-Logloss-mean</th>\n",
       "      <th>train-Logloss-std</th>\n",
       "    </tr>\n",
       "  </thead>\n",
       "  <tbody>\n",
       "    <tr>\n",
       "      <th>0</th>\n",
       "      <td>0</td>\n",
       "      <td>0.500000</td>\n",
       "      <td>0.000000</td>\n",
       "      <td>0.661889</td>\n",
       "      <td>0.000002</td>\n",
       "      <td>0.661889</td>\n",
       "      <td>0.000008</td>\n",
       "    </tr>\n",
       "    <tr>\n",
       "      <th>1</th>\n",
       "      <td>1</td>\n",
       "      <td>0.551612</td>\n",
       "      <td>0.020511</td>\n",
       "      <td>0.632594</td>\n",
       "      <td>0.000119</td>\n",
       "      <td>0.632610</td>\n",
       "      <td>0.000087</td>\n",
       "    </tr>\n",
       "    <tr>\n",
       "      <th>2</th>\n",
       "      <td>2</td>\n",
       "      <td>0.586463</td>\n",
       "      <td>0.018016</td>\n",
       "      <td>0.605433</td>\n",
       "      <td>0.000165</td>\n",
       "      <td>0.605443</td>\n",
       "      <td>0.000117</td>\n",
       "    </tr>\n",
       "    <tr>\n",
       "      <th>3</th>\n",
       "      <td>3</td>\n",
       "      <td>0.601188</td>\n",
       "      <td>0.047780</td>\n",
       "      <td>0.580242</td>\n",
       "      <td>0.000865</td>\n",
       "      <td>0.580216</td>\n",
       "      <td>0.000936</td>\n",
       "    </tr>\n",
       "    <tr>\n",
       "      <th>4</th>\n",
       "      <td>4</td>\n",
       "      <td>0.606292</td>\n",
       "      <td>0.044846</td>\n",
       "      <td>0.557042</td>\n",
       "      <td>0.000803</td>\n",
       "      <td>0.556992</td>\n",
       "      <td>0.000916</td>\n",
       "    </tr>\n",
       "    <tr>\n",
       "      <th>...</th>\n",
       "      <td>...</td>\n",
       "      <td>...</td>\n",
       "      <td>...</td>\n",
       "      <td>...</td>\n",
       "      <td>...</td>\n",
       "      <td>...</td>\n",
       "      <td>...</td>\n",
       "    </tr>\n",
       "    <tr>\n",
       "      <th>586</th>\n",
       "      <td>586</td>\n",
       "      <td>0.746754</td>\n",
       "      <td>0.017102</td>\n",
       "      <td>0.238437</td>\n",
       "      <td>0.002225</td>\n",
       "      <td>0.208258</td>\n",
       "      <td>0.008921</td>\n",
       "    </tr>\n",
       "    <tr>\n",
       "      <th>587</th>\n",
       "      <td>587</td>\n",
       "      <td>0.746754</td>\n",
       "      <td>0.017102</td>\n",
       "      <td>0.238438</td>\n",
       "      <td>0.002225</td>\n",
       "      <td>0.208256</td>\n",
       "      <td>0.008924</td>\n",
       "    </tr>\n",
       "    <tr>\n",
       "      <th>588</th>\n",
       "      <td>588</td>\n",
       "      <td>0.746760</td>\n",
       "      <td>0.017093</td>\n",
       "      <td>0.238437</td>\n",
       "      <td>0.002224</td>\n",
       "      <td>0.208228</td>\n",
       "      <td>0.008959</td>\n",
       "    </tr>\n",
       "    <tr>\n",
       "      <th>589</th>\n",
       "      <td>589</td>\n",
       "      <td>0.746766</td>\n",
       "      <td>0.017084</td>\n",
       "      <td>0.238433</td>\n",
       "      <td>0.002220</td>\n",
       "      <td>0.208217</td>\n",
       "      <td>0.008973</td>\n",
       "    </tr>\n",
       "    <tr>\n",
       "      <th>590</th>\n",
       "      <td>590</td>\n",
       "      <td>0.746729</td>\n",
       "      <td>0.017139</td>\n",
       "      <td>0.238448</td>\n",
       "      <td>0.002238</td>\n",
       "      <td>0.208171</td>\n",
       "      <td>0.009032</td>\n",
       "    </tr>\n",
       "  </tbody>\n",
       "</table>\n",
       "<p>591 rows × 7 columns</p>\n",
       "</div>"
      ],
      "text/plain": [
       "     iterations  test-AUC-mean  test-AUC-std  test-Logloss-mean  \\\n",
       "0             0       0.500000      0.000000           0.661889   \n",
       "1             1       0.551612      0.020511           0.632594   \n",
       "2             2       0.586463      0.018016           0.605433   \n",
       "3             3       0.601188      0.047780           0.580242   \n",
       "4             4       0.606292      0.044846           0.557042   \n",
       "..          ...            ...           ...                ...   \n",
       "586         586       0.746754      0.017102           0.238437   \n",
       "587         587       0.746754      0.017102           0.238438   \n",
       "588         588       0.746760      0.017093           0.238437   \n",
       "589         589       0.746766      0.017084           0.238433   \n",
       "590         590       0.746729      0.017139           0.238448   \n",
       "\n",
       "     test-Logloss-std  train-Logloss-mean  train-Logloss-std  \n",
       "0            0.000002            0.661889           0.000008  \n",
       "1            0.000119            0.632610           0.000087  \n",
       "2            0.000165            0.605443           0.000117  \n",
       "3            0.000865            0.580216           0.000936  \n",
       "4            0.000803            0.556992           0.000916  \n",
       "..                ...                 ...                ...  \n",
       "586          0.002225            0.208258           0.008921  \n",
       "587          0.002225            0.208256           0.008924  \n",
       "588          0.002224            0.208228           0.008959  \n",
       "589          0.002220            0.208217           0.008973  \n",
       "590          0.002238            0.208171           0.009032  \n",
       "\n",
       "[591 rows x 7 columns]"
      ]
     },
     "execution_count": 108,
     "metadata": {},
     "output_type": "execute_result"
    }
   ],
   "source": [
    "cv_data"
   ]
  },
  {
   "cell_type": "code",
   "execution_count": 109,
   "id": "9c000b73",
   "metadata": {},
   "outputs": [
    {
     "data": {
      "text/plain": [
       "0.7469877971307574"
      ]
     },
     "execution_count": 109,
     "metadata": {},
     "output_type": "execute_result"
    }
   ],
   "source": [
    "cv_data['test-AUC-mean'].max()"
   ]
  },
  {
   "cell_type": "code",
   "execution_count": 120,
   "id": "d032f1e4",
   "metadata": {},
   "outputs": [],
   "source": [
    "y_ = y.copy()\n",
    "y_[y_==-1] = 0."
   ]
  },
  {
   "cell_type": "code",
   "execution_count": 121,
   "id": "5066907f",
   "metadata": {},
   "outputs": [
    {
     "data": {
      "text/plain": [
       "Counter({0.0: 16921, 1.0: 1377})"
      ]
     },
     "execution_count": 121,
     "metadata": {},
     "output_type": "execute_result"
    }
   ],
   "source": [
    "Counter(y_)"
   ]
  },
  {
   "cell_type": "code",
   "execution_count": 122,
   "id": "af036e45",
   "metadata": {},
   "outputs": [
    {
     "data": {
      "application/vnd.jupyter.widget-view+json": {
       "model_id": "3f4a0f43bd3549e28740794150ffbc37",
       "version_major": 2,
       "version_minor": 0
      },
      "text/plain": [
       "MetricVisualizer(layout=Layout(align_self='stretch', height='500px'))"
      ]
     },
     "metadata": {},
     "output_type": "display_data"
    },
    {
     "name": "stdout",
     "output_type": "stream",
     "text": [
      "Wall time: 2min 38s\n"
     ]
    }
   ],
   "source": [
    "%%time\n",
    "\n",
    "cv_params = {'random_seed': 19, 'eval_metric': 'AUC',\n",
    "             'loss_function': 'CrossEntropy','logging_level': 'Silent'}\n",
    "\n",
    "cv_data2 = cv(\n",
    "    Pool(X, y_, cat_features=list(cat_features)),\n",
    "    cv_params,\n",
    "    fold_count=4,\n",
    "    early_stopping_rounds=150,\n",
    "    stratified=True,\n",
    "    plot=True\n",
    ")"
   ]
  },
  {
   "cell_type": "code",
   "execution_count": 123,
   "id": "32066afd",
   "metadata": {},
   "outputs": [
    {
     "data": {
      "text/plain": [
       "0.7464648494986902"
      ]
     },
     "execution_count": 123,
     "metadata": {},
     "output_type": "execute_result"
    }
   ],
   "source": [
    "cv_data2['test-AUC-mean'].max()"
   ]
  },
  {
   "cell_type": "markdown",
   "id": "c07282e4",
   "metadata": {},
   "source": [
    "# Parameters tuning"
   ]
  },
  {
   "cell_type": "code",
   "execution_count": 171,
   "id": "7b1ef269",
   "metadata": {},
   "outputs": [],
   "source": [
    "X_train, X_validate, y_train, y_validate = train_test_split(X, y, train_size=0.75,\n",
    "                                                            stratify=y, shuffle=True, random_state=19)"
   ]
  },
  {
   "cell_type": "code",
   "execution_count": 217,
   "id": "4d5b3e9e",
   "metadata": {},
   "outputs": [],
   "source": [
    "train_pool = Pool(X_train, y_train, cat_features=cat_features)\n",
    "test_pool = Pool(X_validate, y_validate, cat_features=cat_features)\n",
    "cv_pool = Pool(X, y, cat_features=cat_features)"
   ]
  },
  {
   "cell_type": "code",
   "execution_count": 218,
   "id": "25f83d07",
   "metadata": {},
   "outputs": [],
   "source": [
    "params = {'random_seed': 19, 'eval_metric': 'AUC', 'iterations': 1000,\n",
    "          'loss_function': 'Logloss', 'verbose': 500}"
   ]
  },
  {
   "cell_type": "code",
   "execution_count": 262,
   "id": "5c7bf200",
   "metadata": {},
   "outputs": [],
   "source": [
    "grid = {\n",
    "    'learning_rate': np.arange(0.001, 0.07, 0.01)\n",
    "}"
   ]
  },
  {
   "cell_type": "code",
   "execution_count": 263,
   "id": "7776102e",
   "metadata": {},
   "outputs": [],
   "source": [
    "catb_clf = CatBoostClassifier(**params)"
   ]
  },
  {
   "cell_type": "code",
   "execution_count": 264,
   "id": "32c89e65",
   "metadata": {
    "collapsed": true
   },
   "outputs": [
    {
     "data": {
      "application/vnd.jupyter.widget-view+json": {
       "model_id": "3fa075b0d67e40e6974f6a08f5f85745",
       "version_major": 2,
       "version_minor": 0
      },
      "text/plain": [
       "MetricVisualizer(layout=Layout(align_self='stretch', height='500px'))"
      ]
     },
     "metadata": {},
     "output_type": "display_data"
    },
    {
     "name": "stdout",
     "output_type": "stream",
     "text": [
      "0:\ttest: 0.5568853\tbest: 0.5568853 (0)\ttotal: 44.7ms\tremaining: 44.7s\n",
      "500:\ttest: 0.6754109\tbest: 0.6754109 (499)\ttotal: 22s\tremaining: 21.9s\n",
      "999:\ttest: 0.6963899\tbest: 0.6965633 (997)\ttotal: 44.6s\tremaining: 0us\n",
      "\n",
      "bestTest = 0.6965633244\n",
      "bestIteration = 997\n",
      "\n",
      "Metric AUC is not calculated on train by default. To calculate this metric on train, add hints=skip_train~false to metric parameters.\n",
      "0:\tloss: 0.6965633\tbest: 0.6965633 (0)\ttotal: 44.7s\tremaining: 4m 28s\n",
      "0:\ttest: 0.5568853\tbest: 0.5568853 (0)\ttotal: 48.6ms\tremaining: 48.6s\n",
      "500:\ttest: 0.7456273\tbest: 0.7457012 (498)\ttotal: 29.6s\tremaining: 29.5s\n",
      "999:\ttest: 0.7497548\tbest: 0.7498929 (998)\ttotal: 1m 2s\tremaining: 0us\n",
      "\n",
      "bestTest = 0.7498929318\n",
      "bestIteration = 998\n",
      "\n",
      "Metric AUC is not calculated on train by default. To calculate this metric on train, add hints=skip_train~false to metric parameters.\n",
      "1:\tloss: 0.7498929\tbest: 0.7498929 (1)\ttotal: 1m 46s\tremaining: 4m 26s\n",
      "0:\ttest: 0.5568853\tbest: 0.5568853 (0)\ttotal: 38.2ms\tremaining: 38.2s\n",
      "500:\ttest: 0.7500600\tbest: 0.7500739 (499)\ttotal: 32.4s\tremaining: 32.2s\n",
      "999:\ttest: 0.7462730\tbest: 0.7501842 (514)\ttotal: 1m 6s\tremaining: 0us\n",
      "\n",
      "bestTest = 0.7501841573\n",
      "bestIteration = 514\n",
      "\n",
      "Metric AUC is not calculated on train by default. To calculate this metric on train, add hints=skip_train~false to metric parameters.\n",
      "2:\tloss: 0.7501842\tbest: 0.7501842 (2)\ttotal: 2m 53s\tremaining: 3m 50s\n",
      "0:\ttest: 0.5568853\tbest: 0.5568853 (0)\ttotal: 44.5ms\tremaining: 44.4s\n",
      "500:\ttest: 0.7479668\tbest: 0.7489047 (438)\ttotal: 32s\tremaining: 31.9s\n",
      "999:\ttest: 0.7432204\tbest: 0.7489047 (438)\ttotal: 1m 6s\tremaining: 0us\n",
      "\n",
      "bestTest = 0.7489046922\n",
      "bestIteration = 438\n",
      "\n",
      "Metric AUC is not calculated on train by default. To calculate this metric on train, add hints=skip_train~false to metric parameters.\n",
      "3:\tloss: 0.7489047\tbest: 0.7501842 (2)\ttotal: 3m 59s\tremaining: 2m 59s\n",
      "0:\ttest: 0.5568853\tbest: 0.5568853 (0)\ttotal: 39ms\tremaining: 39s\n",
      "500:\ttest: 0.7387000\tbest: 0.7441830 (274)\ttotal: 33.9s\tremaining: 33.8s\n",
      "999:\ttest: 0.7338166\tbest: 0.7441830 (274)\ttotal: 1m 7s\tremaining: 0us\n",
      "\n",
      "bestTest = 0.7441829839\n",
      "bestIteration = 274\n",
      "\n",
      "Metric AUC is not calculated on train by default. To calculate this metric on train, add hints=skip_train~false to metric parameters.\n",
      "4:\tloss: 0.7441830\tbest: 0.7501842 (2)\ttotal: 5m 7s\tremaining: 2m 2s\n",
      "0:\ttest: 0.5568853\tbest: 0.5568853 (0)\ttotal: 51.3ms\tremaining: 51.2s\n",
      "500:\ttest: 0.7398018\tbest: 0.7453672 (168)\ttotal: 32.9s\tremaining: 32.7s\n",
      "999:\ttest: 0.7299997\tbest: 0.7453672 (168)\ttotal: 1m 8s\tremaining: 0us\n",
      "\n",
      "bestTest = 0.7453671583\n",
      "bestIteration = 168\n",
      "\n",
      "Metric AUC is not calculated on train by default. To calculate this metric on train, add hints=skip_train~false to metric parameters.\n",
      "5:\tloss: 0.7453672\tbest: 0.7501842 (2)\ttotal: 6m 15s\tremaining: 1m 2s\n",
      "0:\ttest: 0.5568853\tbest: 0.5568853 (0)\ttotal: 48.6ms\tremaining: 48.6s\n",
      "500:\ttest: 0.7388970\tbest: 0.7465106 (142)\ttotal: 32.8s\tremaining: 32.7s\n",
      "999:\ttest: 0.7263733\tbest: 0.7465106 (142)\ttotal: 1m 6s\tremaining: 0us\n",
      "\n",
      "bestTest = 0.7465106469\n",
      "bestIteration = 142\n",
      "\n",
      "Metric AUC is not calculated on train by default. To calculate this metric on train, add hints=skip_train~false to metric parameters.\n",
      "6:\tloss: 0.7465106\tbest: 0.7501842 (2)\ttotal: 7m 22s\tremaining: 0us\n",
      "Estimating final quality...\n",
      "Training on fold [0/3]\n",
      "0:\ttest: 0.4836962\tbest: 0.4836962 (0)\ttotal: 51ms\tremaining: 51s\n",
      "500:\ttest: 0.7325974\tbest: 0.7327094 (491)\ttotal: 32.6s\tremaining: 32.5s\n",
      "999:\ttest: 0.7324641\tbest: 0.7337969 (668)\ttotal: 1m 5s\tremaining: 0us\n",
      "\n",
      "bestTest = 0.733796948\n",
      "bestIteration = 668\n",
      "\n",
      "Training on fold [1/3]\n",
      "0:\ttest: 0.5000000\tbest: 0.5000000 (0)\ttotal: 12.7ms\tremaining: 12.7s\n",
      "500:\ttest: 0.7500641\tbest: 0.7504168 (484)\ttotal: 31.7s\tremaining: 31.6s\n",
      "999:\ttest: 0.7531158\tbest: 0.7531409 (995)\ttotal: 1m 6s\tremaining: 0us\n",
      "\n",
      "bestTest = 0.753140886\n",
      "bestIteration = 995\n",
      "\n",
      "Training on fold [2/3]\n",
      "0:\ttest: 0.5000000\tbest: 0.5000000 (0)\ttotal: 14.5ms\tremaining: 14.4s\n",
      "500:\ttest: 0.7390975\tbest: 0.7390975 (500)\ttotal: 32.3s\tremaining: 32.2s\n",
      "999:\ttest: 0.7356719\tbest: 0.7403266 (550)\ttotal: 1m 8s\tremaining: 0us\n",
      "\n",
      "bestTest = 0.7403266429\n",
      "bestIteration = 550\n",
      "\n"
     ]
    }
   ],
   "source": [
    "grid_search_results = catb_clf.grid_search(grid, cv_pool, shuffle=False, plot=True)"
   ]
  },
  {
   "cell_type": "code",
   "execution_count": 266,
   "id": "0603af2c",
   "metadata": {
    "collapsed": true
   },
   "outputs": [
    {
     "name": "stderr",
     "output_type": "stream",
     "text": [
      "Custom logger is already specified. Specify more than one logger at same time is not thread safe."
     ]
    },
    {
     "data": {
      "application/vnd.jupyter.widget-view+json": {
       "model_id": "efa4e421c03e436cbfe2f62760469626",
       "version_major": 2,
       "version_minor": 0
      },
      "text/plain": [
       "MetricVisualizer(layout=Layout(align_self='stretch', height='500px'))"
      ]
     },
     "metadata": {},
     "output_type": "display_data"
    },
    {
     "name": "stdout",
     "output_type": "stream",
     "text": [
      "0:\ttest: 0.5568853\tbest: 0.5568853 (0)\ttotal: 84.1ms\tremaining: 1m 23s\n",
      "500:\ttest: 0.7393585\tbest: 0.7430855 (123)\ttotal: 33.6s\tremaining: 33.5s\n",
      "999:\ttest: 0.7319429\tbest: 0.7430855 (123)\ttotal: 1m 7s\tremaining: 0us\n",
      "\n",
      "bestTest = 0.7430855347\n",
      "bestIteration = 123\n",
      "\n",
      "Metric AUC is not calculated on train by default. To calculate this metric on train, add hints=skip_train~false to metric parameters.\n",
      "0:\tloss: 0.7430855\tbest: 0.7430855 (0)\ttotal: 1m 7s\tremaining: 4m 28s\n",
      "0:\ttest: 0.5568853\tbest: 0.5568853 (0)\ttotal: 53.7ms\tremaining: 53.7s\n",
      "500:\ttest: 0.7337117\tbest: 0.7533619 (120)\ttotal: 33.6s\tremaining: 33.5s\n",
      "999:\ttest: 0.7282652\tbest: 0.7533619 (120)\ttotal: 1m 7s\tremaining: 0us\n",
      "\n",
      "bestTest = 0.753361942\n",
      "bestIteration = 120\n",
      "\n",
      "Metric AUC is not calculated on train by default. To calculate this metric on train, add hints=skip_train~false to metric parameters.\n",
      "1:\tloss: 0.7533619\tbest: 0.7533619 (1)\ttotal: 2m 14s\tremaining: 3m 22s\n",
      "0:\ttest: 0.5568853\tbest: 0.5568853 (0)\ttotal: 42.6ms\tremaining: 42.5s\n",
      "500:\ttest: 0.7352696\tbest: 0.7479957 (140)\ttotal: 32.9s\tremaining: 32.7s\n",
      "999:\ttest: 0.7175444\tbest: 0.7479957 (140)\ttotal: 1m 6s\tremaining: 0us\n",
      "\n",
      "bestTest = 0.747995683\n",
      "bestIteration = 140\n",
      "\n",
      "Metric AUC is not calculated on train by default. To calculate this metric on train, add hints=skip_train~false to metric parameters.\n",
      "2:\tloss: 0.7479957\tbest: 0.7533619 (1)\ttotal: 3m 21s\tremaining: 2m 14s\n",
      "0:\ttest: 0.5568853\tbest: 0.5568853 (0)\ttotal: 69.6ms\tremaining: 1m 9s\n",
      "500:\ttest: 0.7360073\tbest: 0.7483008 (103)\ttotal: 31.8s\tremaining: 31.7s\n",
      "999:\ttest: 0.7195016\tbest: 0.7483008 (103)\ttotal: 1m 4s\tremaining: 0us\n",
      "\n",
      "bestTest = 0.7483008274\n",
      "bestIteration = 103\n",
      "\n",
      "Metric AUC is not calculated on train by default. To calculate this metric on train, add hints=skip_train~false to metric parameters.\n",
      "3:\tloss: 0.7483008\tbest: 0.7533619 (1)\ttotal: 4m 26s\tremaining: 1m 6s\n",
      "0:\ttest: 0.5568853\tbest: 0.5568853 (0)\ttotal: 38.7ms\tremaining: 38.6s\n",
      "500:\ttest: 0.7290917\tbest: 0.7409067 (60)\ttotal: 32.9s\tremaining: 32.8s\n",
      "999:\ttest: 0.7228860\tbest: 0.7409067 (60)\ttotal: 1m 7s\tremaining: 0us\n",
      "\n",
      "bestTest = 0.7409066965\n",
      "bestIteration = 60\n",
      "\n",
      "Metric AUC is not calculated on train by default. To calculate this metric on train, add hints=skip_train~false to metric parameters.\n",
      "4:\tloss: 0.7409067\tbest: 0.7533619 (1)\ttotal: 5m 33s\tremaining: 0us\n",
      "Estimating final quality...\n",
      "Training on fold [0/3]\n",
      "0:\ttest: 0.4836962\tbest: 0.4836962 (0)\ttotal: 51.1ms\tremaining: 51s\n",
      "500:\ttest: 0.7214994\tbest: 0.7302986 (271)\ttotal: 31.8s\tremaining: 31.7s\n",
      "999:\ttest: 0.7123244\tbest: 0.7302986 (271)\ttotal: 1m 4s\tremaining: 0us\n",
      "\n",
      "bestTest = 0.7302985958\n",
      "bestIteration = 271\n",
      "\n",
      "Training on fold [1/3]\n",
      "0:\ttest: 0.5000000\tbest: 0.5000000 (0)\ttotal: 34.2ms\tremaining: 34.2s\n",
      "500:\ttest: 0.7490347\tbest: 0.7545319 (357)\ttotal: 31.3s\tremaining: 31.2s\n",
      "999:\ttest: 0.7326770\tbest: 0.7545319 (357)\ttotal: 1m 4s\tremaining: 0us\n",
      "\n",
      "bestTest = 0.7545318994\n",
      "bestIteration = 357\n",
      "\n",
      "Training on fold [2/3]\n",
      "0:\ttest: 0.5000000\tbest: 0.5000000 (0)\ttotal: 24.8ms\tremaining: 24.7s\n",
      "500:\ttest: 0.7320045\tbest: 0.7357658 (238)\ttotal: 33.2s\tremaining: 33s\n",
      "999:\ttest: 0.7177938\tbest: 0.7357658 (238)\ttotal: 1m 6s\tremaining: 0us\n",
      "\n",
      "bestTest = 0.735765772\n",
      "bestIteration = 238\n",
      "\n"
     ]
    }
   ],
   "source": [
    "grid = {\n",
    "    'learning_rate': np.arange(0.06, 0.11, 0.01)\n",
    "}\n",
    "\n",
    "grid_search_results1 = CatBoostClassifier(**params).grid_search(grid, cv_pool, shuffle=False, plot=True)"
   ]
  },
  {
   "cell_type": "code",
   "execution_count": 268,
   "id": "4f380df2",
   "metadata": {},
   "outputs": [
    {
     "data": {
      "text/plain": [
       "{'learning_rate': 0.06999999999999999}"
      ]
     },
     "execution_count": 268,
     "metadata": {},
     "output_type": "execute_result"
    }
   ],
   "source": [
    "grid_search_results1['params']"
   ]
  },
  {
   "cell_type": "code",
   "execution_count": 282,
   "id": "510a80ae",
   "metadata": {},
   "outputs": [
    {
     "data": {
      "text/plain": [
       "0      0.494565\n",
       "1      0.499649\n",
       "2      0.520035\n",
       "3      0.533328\n",
       "4      0.539453\n",
       "         ...   \n",
       "995    0.740421\n",
       "996    0.740427\n",
       "997    0.740449\n",
       "998    0.740438\n",
       "999    0.740417\n",
       "Name: test-AUC-mean, Length: 1000, dtype: float64"
      ]
     },
     "execution_count": 282,
     "metadata": {},
     "output_type": "execute_result"
    }
   ],
   "source": [
    "pd.DataFrame(grid_search_results['cv_results'])['test-AUC-mean']"
   ]
  },
  {
   "cell_type": "code",
   "execution_count": 274,
   "id": "2c33944a",
   "metadata": {},
   "outputs": [],
   "source": [
    "params.update(grid_search_results1['params'])"
   ]
  },
  {
   "cell_type": "code",
   "execution_count": 276,
   "id": "e5e4ea3d",
   "metadata": {},
   "outputs": [
    {
     "data": {
      "application/vnd.jupyter.widget-view+json": {
       "model_id": "6dc67d5f9f684b32bd8f0e1cf6b612c8",
       "version_major": 2,
       "version_minor": 0
      },
      "text/plain": [
       "MetricVisualizer(layout=Layout(align_self='stretch', height='500px'))"
      ]
     },
     "metadata": {},
     "output_type": "display_data"
    },
    {
     "name": "stdout",
     "output_type": "stream",
     "text": [
      "Training on fold [0/4]\n",
      "0:\ttest: 0.5000000\tbest: 0.5000000 (0)\ttotal: 9.95ms\tremaining: 9.94s\n",
      "\n",
      "bestTest = 0.7617461182\n",
      "bestIteration = 119\n",
      "\n",
      "Training on fold [1/4]\n",
      "0:\ttest: 0.5000000\tbest: 0.5000000 (0)\ttotal: 20.8ms\tremaining: 20.8s\n",
      "\n",
      "bestTest = 0.7285708395\n",
      "bestIteration = 238\n",
      "\n",
      "Training on fold [2/4]\n",
      "0:\ttest: 0.5000000\tbest: 0.5000000 (0)\ttotal: 8.46ms\tremaining: 8.45s\n",
      "500:\ttest: 0.7320730\tbest: 0.7323135 (458)\ttotal: 37s\tremaining: 36.8s\n",
      "\n",
      "bestTest = 0.7325911265\n",
      "bestIteration = 593\n",
      "\n",
      "Training on fold [3/4]\n",
      "0:\ttest: 0.5000000\tbest: 0.5000000 (0)\ttotal: 9.01ms\tremaining: 9s\n",
      "\n",
      "bestTest = 0.7619756446\n",
      "bestIteration = 118\n",
      "\n"
     ]
    }
   ],
   "source": [
    "cv_data = cv(\n",
    "    cv_pool,\n",
    "    params,\n",
    "    fold_count=4,\n",
    "    early_stopping_rounds=150,\n",
    "    stratified=True,\n",
    "    plot=True\n",
    ")"
   ]
  },
  {
   "cell_type": "code",
   "execution_count": 283,
   "id": "f6ff5acf",
   "metadata": {},
   "outputs": [
    {
     "data": {
      "text/plain": [
       "{'random_seed': 19,\n",
       " 'eval_metric': 'AUC',\n",
       " 'iterations': 1000,\n",
       " 'loss_function': 'Logloss',\n",
       " 'verbose': 500,\n",
       " 'depth': 6,\n",
       " 'l2_leaf_reg': 3,\n",
       " 'learning_rate': 0.06999999999999999}"
      ]
     },
     "execution_count": 283,
     "metadata": {},
     "output_type": "execute_result"
    }
   ],
   "source": [
    "params"
   ]
  },
  {
   "cell_type": "code",
   "execution_count": 284,
   "id": "b3db14d8",
   "metadata": {},
   "outputs": [],
   "source": [
    "catb_model = CatBoostClassifier(**params)"
   ]
  },
  {
   "cell_type": "code",
   "execution_count": 287,
   "id": "0c38200e",
   "metadata": {},
   "outputs": [
    {
     "name": "stdout",
     "output_type": "stream",
     "text": [
      "0:\ttest: 0.5391916\tbest: 0.5391916 (0)\ttotal: 57.6ms\tremaining: 57.6s\n",
      "500:\ttest: 0.7542529\tbest: 0.7683344 (169)\ttotal: 29.5s\tremaining: 29.4s\n",
      "999:\ttest: 0.7341782\tbest: 0.7683344 (169)\ttotal: 60s\tremaining: 0us\n",
      "\n",
      "bestTest = 0.7683343594\n",
      "bestIteration = 169\n",
      "\n",
      "Shrink model to first 170 iterations.\n"
     ]
    },
    {
     "data": {
      "text/plain": [
       "<catboost.core.CatBoostClassifier at 0x17b82b52250>"
      ]
     },
     "execution_count": 287,
     "metadata": {},
     "output_type": "execute_result"
    }
   ],
   "source": [
    "catb_model.fit(X_train, y_train, cat_features=cat_features,\n",
    "               eval_set=(X_validate, y_validate),  use_best_model=True)"
   ]
  },
  {
   "cell_type": "markdown",
   "id": "6cefc932",
   "metadata": {},
   "source": [
    "# Submitting"
   ]
  },
  {
   "cell_type": "code",
   "execution_count": 295,
   "id": "3d6757fa",
   "metadata": {},
   "outputs": [],
   "source": [
    "raw_test_data = pd.read_csv('orange_small_churn_test_data.csv', header=0)"
   ]
  },
  {
   "cell_type": "code",
   "execution_count": 303,
   "id": "5de563f2",
   "metadata": {},
   "outputs": [],
   "source": [
    "test_data_ = raw_test_data.loc[:, real_features+cat_features]"
   ]
  },
  {
   "cell_type": "code",
   "execution_count": 308,
   "id": "3b5d37c5",
   "metadata": {},
   "outputs": [
    {
     "data": {
      "text/html": [
       "<div>\n",
       "<style scoped>\n",
       "    .dataframe tbody tr th:only-of-type {\n",
       "        vertical-align: middle;\n",
       "    }\n",
       "\n",
       "    .dataframe tbody tr th {\n",
       "        vertical-align: top;\n",
       "    }\n",
       "\n",
       "    .dataframe thead th {\n",
       "        text-align: right;\n",
       "    }\n",
       "</style>\n",
       "<table border=\"1\" class=\"dataframe\">\n",
       "  <thead>\n",
       "    <tr style=\"text-align: right;\">\n",
       "      <th></th>\n",
       "      <th>Var6</th>\n",
       "      <th>Var7</th>\n",
       "      <th>Var13</th>\n",
       "      <th>Var21</th>\n",
       "      <th>Var22</th>\n",
       "      <th>Var24</th>\n",
       "      <th>Var25</th>\n",
       "      <th>Var28</th>\n",
       "      <th>Var35</th>\n",
       "      <th>Var38</th>\n",
       "      <th>...</th>\n",
       "      <th>Var219</th>\n",
       "      <th>Var220</th>\n",
       "      <th>Var221</th>\n",
       "      <th>Var222</th>\n",
       "      <th>Var223</th>\n",
       "      <th>Var225</th>\n",
       "      <th>Var226</th>\n",
       "      <th>Var227</th>\n",
       "      <th>Var228</th>\n",
       "      <th>Var229</th>\n",
       "    </tr>\n",
       "  </thead>\n",
       "  <tbody>\n",
       "    <tr>\n",
       "      <th>0</th>\n",
       "      <td>-0.034288</td>\n",
       "      <td>0.035193</td>\n",
       "      <td>0.432686</td>\n",
       "      <td>-0.102193</td>\n",
       "      <td>-0.097455</td>\n",
       "      <td>-0.457746</td>\n",
       "      <td>-0.201380</td>\n",
       "      <td>1.848541</td>\n",
       "      <td>-0.261179</td>\n",
       "      <td>1.456209</td>\n",
       "      <td>...</td>\n",
       "      <td>FzaX</td>\n",
       "      <td>UF16siJ</td>\n",
       "      <td>zCkv</td>\n",
       "      <td>APgdzOv</td>\n",
       "      <td>jySVZNlOJy</td>\n",
       "      <td>ELof</td>\n",
       "      <td>xb3V</td>\n",
       "      <td>6fzt</td>\n",
       "      <td>Zy3gnGM</td>\n",
       "      <td>null</td>\n",
       "    </tr>\n",
       "    <tr>\n",
       "      <th>1</th>\n",
       "      <td>-0.176977</td>\n",
       "      <td>1.214693</td>\n",
       "      <td>0.122963</td>\n",
       "      <td>-0.226382</td>\n",
       "      <td>-0.221534</td>\n",
       "      <td>-0.457746</td>\n",
       "      <td>-0.001196</td>\n",
       "      <td>-1.023129</td>\n",
       "      <td>-0.261179</td>\n",
       "      <td>-0.899890</td>\n",
       "      <td>...</td>\n",
       "      <td>FzaX</td>\n",
       "      <td>ot6oLzk</td>\n",
       "      <td>oslk</td>\n",
       "      <td>IIvC99a</td>\n",
       "      <td>LM8l689qOp</td>\n",
       "      <td>null</td>\n",
       "      <td>xb3V</td>\n",
       "      <td>RAYp</td>\n",
       "      <td>F2FyR07IdsN7I</td>\n",
       "      <td>null</td>\n",
       "    </tr>\n",
       "    <tr>\n",
       "      <th>2</th>\n",
       "      <td>-0.222516</td>\n",
       "      <td>0.035193</td>\n",
       "      <td>0.617269</td>\n",
       "      <td>-0.116804</td>\n",
       "      <td>-0.112052</td>\n",
       "      <td>-0.054795</td>\n",
       "      <td>-0.401565</td>\n",
       "      <td>1.132200</td>\n",
       "      <td>-0.261179</td>\n",
       "      <td>0.146819</td>\n",
       "      <td>...</td>\n",
       "      <td>FzaX</td>\n",
       "      <td>6VLNqhB</td>\n",
       "      <td>oslk</td>\n",
       "      <td>6YSocsg</td>\n",
       "      <td>LM8l689qOp</td>\n",
       "      <td>kG3k</td>\n",
       "      <td>rgKb</td>\n",
       "      <td>RAYp</td>\n",
       "      <td>F2FyR07IdsN7I</td>\n",
       "      <td>mj86</td>\n",
       "    </tr>\n",
       "    <tr>\n",
       "      <th>3</th>\n",
       "      <td>0.430210</td>\n",
       "      <td>0.035193</td>\n",
       "      <td>0.972356</td>\n",
       "      <td>0.445697</td>\n",
       "      <td>0.449953</td>\n",
       "      <td>0.549632</td>\n",
       "      <td>0.038841</td>\n",
       "      <td>0.709604</td>\n",
       "      <td>-0.261179</td>\n",
       "      <td>1.424960</td>\n",
       "      <td>...</td>\n",
       "      <td>FzaX</td>\n",
       "      <td>tzp8jNM</td>\n",
       "      <td>oslk</td>\n",
       "      <td>5nQ7A2G</td>\n",
       "      <td>jySVZNlOJy</td>\n",
       "      <td>kG3k</td>\n",
       "      <td>rgKb</td>\n",
       "      <td>RAYp</td>\n",
       "      <td>F2FyR07IdsN7I</td>\n",
       "      <td>am7c</td>\n",
       "    </tr>\n",
       "    <tr>\n",
       "      <th>4</th>\n",
       "      <td>0.021001</td>\n",
       "      <td>0.014786</td>\n",
       "      <td>0.008967</td>\n",
       "      <td>0.002056</td>\n",
       "      <td>0.003766</td>\n",
       "      <td>-0.003898</td>\n",
       "      <td>0.014918</td>\n",
       "      <td>0.015372</td>\n",
       "      <td>0.007287</td>\n",
       "      <td>0.009550</td>\n",
       "      <td>...</td>\n",
       "      <td>FzaX</td>\n",
       "      <td>EPImS85</td>\n",
       "      <td>oslk</td>\n",
       "      <td>MI8s5nE</td>\n",
       "      <td>LM8l689qOp</td>\n",
       "      <td>null</td>\n",
       "      <td>7P5s</td>\n",
       "      <td>RAYp</td>\n",
       "      <td>F2FyR07IdsN7I</td>\n",
       "      <td>null</td>\n",
       "    </tr>\n",
       "  </tbody>\n",
       "</table>\n",
       "<p>5 rows × 74 columns</p>\n",
       "</div>"
      ],
      "text/plain": [
       "       Var6      Var7     Var13     Var21     Var22     Var24     Var25  \\\n",
       "0 -0.034288  0.035193  0.432686 -0.102193 -0.097455 -0.457746 -0.201380   \n",
       "1 -0.176977  1.214693  0.122963 -0.226382 -0.221534 -0.457746 -0.001196   \n",
       "2 -0.222516  0.035193  0.617269 -0.116804 -0.112052 -0.054795 -0.401565   \n",
       "3  0.430210  0.035193  0.972356  0.445697  0.449953  0.549632  0.038841   \n",
       "4  0.021001  0.014786  0.008967  0.002056  0.003766 -0.003898  0.014918   \n",
       "\n",
       "      Var28     Var35     Var38  ...  Var219   Var220  Var221   Var222  \\\n",
       "0  1.848541 -0.261179  1.456209  ...    FzaX  UF16siJ    zCkv  APgdzOv   \n",
       "1 -1.023129 -0.261179 -0.899890  ...    FzaX  ot6oLzk    oslk  IIvC99a   \n",
       "2  1.132200 -0.261179  0.146819  ...    FzaX  6VLNqhB    oslk  6YSocsg   \n",
       "3  0.709604 -0.261179  1.424960  ...    FzaX  tzp8jNM    oslk  5nQ7A2G   \n",
       "4  0.015372  0.007287  0.009550  ...    FzaX  EPImS85    oslk  MI8s5nE   \n",
       "\n",
       "       Var223  Var225  Var226  Var227         Var228  Var229  \n",
       "0  jySVZNlOJy    ELof    xb3V    6fzt        Zy3gnGM    null  \n",
       "1  LM8l689qOp    null    xb3V    RAYp  F2FyR07IdsN7I    null  \n",
       "2  LM8l689qOp    kG3k    rgKb    RAYp  F2FyR07IdsN7I    mj86  \n",
       "3  jySVZNlOJy    kG3k    rgKb    RAYp  F2FyR07IdsN7I    am7c  \n",
       "4  LM8l689qOp    null    7P5s    RAYp  F2FyR07IdsN7I    null  \n",
       "\n",
       "[5 rows x 74 columns]"
      ]
     },
     "execution_count": 308,
     "metadata": {},
     "output_type": "execute_result"
    }
   ],
   "source": [
    "test_data = null_compl_scaler.transform(test_data_)\n",
    "test_data.head()"
   ]
  },
  {
   "cell_type": "code",
   "execution_count": 310,
   "id": "a5cfbdb5",
   "metadata": {},
   "outputs": [],
   "source": [
    "predictions = catb_model.predict_proba(test_data)[:, 1]"
   ]
  },
  {
   "cell_type": "code",
   "execution_count": 312,
   "id": "dc34046d",
   "metadata": {},
   "outputs": [
    {
     "data": {
      "text/html": [
       "<div>\n",
       "<style scoped>\n",
       "    .dataframe tbody tr th:only-of-type {\n",
       "        vertical-align: middle;\n",
       "    }\n",
       "\n",
       "    .dataframe tbody tr th {\n",
       "        vertical-align: top;\n",
       "    }\n",
       "\n",
       "    .dataframe thead th {\n",
       "        text-align: right;\n",
       "    }\n",
       "</style>\n",
       "<table border=\"1\" class=\"dataframe\">\n",
       "  <thead>\n",
       "    <tr style=\"text-align: right;\">\n",
       "      <th></th>\n",
       "      <th>Id</th>\n",
       "      <th>result</th>\n",
       "    </tr>\n",
       "  </thead>\n",
       "  <tbody>\n",
       "    <tr>\n",
       "      <th>0</th>\n",
       "      <td>0</td>\n",
       "      <td>0.093730</td>\n",
       "    </tr>\n",
       "    <tr>\n",
       "      <th>1</th>\n",
       "      <td>1</td>\n",
       "      <td>0.116361</td>\n",
       "    </tr>\n",
       "    <tr>\n",
       "      <th>2</th>\n",
       "      <td>2</td>\n",
       "      <td>0.024552</td>\n",
       "    </tr>\n",
       "    <tr>\n",
       "      <th>3</th>\n",
       "      <td>3</td>\n",
       "      <td>0.058094</td>\n",
       "    </tr>\n",
       "    <tr>\n",
       "      <th>4</th>\n",
       "      <td>4</td>\n",
       "      <td>0.025057</td>\n",
       "    </tr>\n",
       "  </tbody>\n",
       "</table>\n",
       "</div>"
      ],
      "text/plain": [
       "   Id    result\n",
       "0   0  0.093730\n",
       "1   1  0.116361\n",
       "2   2  0.024552\n",
       "3   3  0.058094\n",
       "4   4  0.025057"
      ]
     },
     "execution_count": 312,
     "metadata": {},
     "output_type": "execute_result"
    }
   ],
   "source": [
    "tosubmit = pd.DataFrame({'Id': list(range(len(predictions))), 'result': predictions})\n",
    "tosubmit.head()"
   ]
  },
  {
   "cell_type": "code",
   "execution_count": 313,
   "id": "e3fd4657",
   "metadata": {},
   "outputs": [],
   "source": [
    "tosubmit.to_csv('submission_catboost.csv', index=False)"
   ]
  },
  {
   "cell_type": "markdown",
   "id": "07ca5372",
   "metadata": {},
   "source": [
    "**Final evaluation** on kaggle gives ROC AUC score `0.722`. It is better than the other `75%` of participants"
   ]
  }
 ],
 "metadata": {
  "kernelspec": {
   "display_name": "Python 3 (ipykernel)",
   "language": "python",
   "name": "python3"
  },
  "language_info": {
   "codemirror_mode": {
    "name": "ipython",
    "version": 3
   },
   "file_extension": ".py",
   "mimetype": "text/x-python",
   "name": "python",
   "nbconvert_exporter": "python",
   "pygments_lexer": "ipython3",
   "version": "3.8.12"
  }
 },
 "nbformat": 4,
 "nbformat_minor": 5
}
